{
  "cells": [
    {
      "cell_type": "markdown",
      "metadata": {
        "id": "view-in-github",
        "colab_type": "text"
      },
      "source": [
        "<a href=\"https://colab.research.google.com/github/anw1998/MMD6020_Final_Project/blob/main/EEG_Seizure_Classification.ipynb\" target=\"_parent\"><img src=\"https://colab.research.google.com/assets/colab-badge.svg\" alt=\"Open In Colab\"/></a>"
      ]
    },
    {
      "cell_type": "code",
      "execution_count": null,
      "metadata": {
        "colab": {
          "base_uri": "https://localhost:8080/"
        },
        "id": "en60fJmIX9R-",
        "outputId": "ef3d9c7e-57cf-4f41-b0f2-1c4b3c125873"
      },
      "outputs": [
        {
          "name": "stdout",
          "output_type": "stream",
          "text": [
            "Looking in indexes: https://pypi.org/simple, https://us-python.pkg.dev/colab-wheels/public/simple/\n",
            "Collecting mne\n",
            "  Downloading mne-1.2.1-py3-none-any.whl (7.6 MB)\n",
            "\u001b[K     |████████████████████████████████| 7.6 MB 6.6 MB/s \n",
            "\u001b[?25hRequirement already satisfied: scipy>=1.1.0 in /usr/local/lib/python3.7/dist-packages (from mne) (1.7.3)\n",
            "Requirement already satisfied: pooch>=1.5 in /usr/local/lib/python3.7/dist-packages (from mne) (1.6.0)\n",
            "Requirement already satisfied: matplotlib in /usr/local/lib/python3.7/dist-packages (from mne) (3.2.2)\n",
            "Requirement already satisfied: tqdm in /usr/local/lib/python3.7/dist-packages (from mne) (4.64.1)\n",
            "Requirement already satisfied: packaging in /usr/local/lib/python3.7/dist-packages (from mne) (21.3)\n",
            "Requirement already satisfied: jinja2 in /usr/local/lib/python3.7/dist-packages (from mne) (2.11.3)\n",
            "Requirement already satisfied: numpy>=1.15.4 in /usr/local/lib/python3.7/dist-packages (from mne) (1.21.6)\n",
            "Requirement already satisfied: decorator in /usr/local/lib/python3.7/dist-packages (from mne) (4.4.2)\n",
            "Requirement already satisfied: requests>=2.19.0 in /usr/local/lib/python3.7/dist-packages (from pooch>=1.5->mne) (2.23.0)\n",
            "Requirement already satisfied: appdirs>=1.3.0 in /usr/local/lib/python3.7/dist-packages (from pooch>=1.5->mne) (1.4.4)\n",
            "Requirement already satisfied: pyparsing!=3.0.5,>=2.0.2 in /usr/local/lib/python3.7/dist-packages (from packaging->mne) (3.0.9)\n",
            "Requirement already satisfied: certifi>=2017.4.17 in /usr/local/lib/python3.7/dist-packages (from requests>=2.19.0->pooch>=1.5->mne) (2022.9.24)\n",
            "Requirement already satisfied: chardet<4,>=3.0.2 in /usr/local/lib/python3.7/dist-packages (from requests>=2.19.0->pooch>=1.5->mne) (3.0.4)\n",
            "Requirement already satisfied: idna<3,>=2.5 in /usr/local/lib/python3.7/dist-packages (from requests>=2.19.0->pooch>=1.5->mne) (2.10)\n",
            "Requirement already satisfied: urllib3!=1.25.0,!=1.25.1,<1.26,>=1.21.1 in /usr/local/lib/python3.7/dist-packages (from requests>=2.19.0->pooch>=1.5->mne) (1.24.3)\n",
            "Requirement already satisfied: MarkupSafe>=0.23 in /usr/local/lib/python3.7/dist-packages (from jinja2->mne) (2.0.1)\n",
            "Requirement already satisfied: python-dateutil>=2.1 in /usr/local/lib/python3.7/dist-packages (from matplotlib->mne) (2.8.2)\n",
            "Requirement already satisfied: cycler>=0.10 in /usr/local/lib/python3.7/dist-packages (from matplotlib->mne) (0.11.0)\n",
            "Requirement already satisfied: kiwisolver>=1.0.1 in /usr/local/lib/python3.7/dist-packages (from matplotlib->mne) (1.4.4)\n",
            "Requirement already satisfied: typing-extensions in /usr/local/lib/python3.7/dist-packages (from kiwisolver>=1.0.1->matplotlib->mne) (4.1.1)\n",
            "Requirement already satisfied: six>=1.5 in /usr/local/lib/python3.7/dist-packages (from python-dateutil>=2.1->matplotlib->mne) (1.15.0)\n",
            "Installing collected packages: mne\n",
            "Successfully installed mne-1.2.1\n"
          ]
        }
      ],
      "source": [
        "!pip install mne"
      ]
    },
    {
      "cell_type": "code",
      "execution_count": null,
      "metadata": {
        "colab": {
          "base_uri": "https://localhost:8080/"
        },
        "id": "wZpR_3QVn4Mq",
        "outputId": "1b977283-3b93-4b30-bbad-a9e3a43e2816"
      },
      "outputs": [
        {
          "name": "stdout",
          "output_type": "stream",
          "text": [
            "Mounted at /content/drive\n"
          ]
        }
      ],
      "source": [
        "from google.colab import drive\n",
        "drive.mount('/content/drive')"
      ]
    },
    {
      "cell_type": "markdown",
      "metadata": {
        "id": "hIJkhjM7YXjP"
      },
      "source": [
        "# Data Exploration"
      ]
    },
    {
      "cell_type": "code",
      "execution_count": null,
      "metadata": {
        "id": "1rHcr8KxrHFH"
      },
      "outputs": [],
      "source": [
        "import numpy as np\n",
        "import pandas as pd"
      ]
    },
    {
      "cell_type": "code",
      "execution_count": null,
      "metadata": {
        "id": "uN0kY1g92C9N"
      },
      "outputs": [],
      "source": [
        "data_df = pd.read_csv('/content/drive/MyDrive/chbmit_preprocessed_data.csv')"
      ]
    },
    {
      "cell_type": "code",
      "execution_count": null,
      "metadata": {
        "colab": {
          "base_uri": "https://localhost:8080/",
          "height": 317
        },
        "id": "Q2jGLBSeeptk",
        "outputId": "aa5e7869-f508-4790-949d-0172285109be"
      },
      "outputs": [
        {
          "data": {
            "text/html": [
              "\n",
              "  <div id=\"df-04620c0b-741b-4481-8f9b-b5ee3c339a17\">\n",
              "    <div class=\"colab-df-container\">\n",
              "      <div>\n",
              "<style scoped>\n",
              "    .dataframe tbody tr th:only-of-type {\n",
              "        vertical-align: middle;\n",
              "    }\n",
              "\n",
              "    .dataframe tbody tr th {\n",
              "        vertical-align: top;\n",
              "    }\n",
              "\n",
              "    .dataframe thead th {\n",
              "        text-align: right;\n",
              "    }\n",
              "</style>\n",
              "<table border=\"1\" class=\"dataframe\">\n",
              "  <thead>\n",
              "    <tr style=\"text-align: right;\">\n",
              "      <th></th>\n",
              "      <th># FP1-F7</th>\n",
              "      <th>C3-P3</th>\n",
              "      <th>C4-P4</th>\n",
              "      <th>CZ-PZ</th>\n",
              "      <th>F3-C3</th>\n",
              "      <th>F4-C4</th>\n",
              "      <th>F7-T7</th>\n",
              "      <th>F8-T8</th>\n",
              "      <th>FP1-F3</th>\n",
              "      <th>FP2-F4</th>\n",
              "      <th>...</th>\n",
              "      <th>P3-O1</th>\n",
              "      <th>P4-O2</th>\n",
              "      <th>P7-O1</th>\n",
              "      <th>P7-T7</th>\n",
              "      <th>P8-O2</th>\n",
              "      <th>T7-FT9</th>\n",
              "      <th>T7-P7</th>\n",
              "      <th>T8-P8-0</th>\n",
              "      <th>T8-P8-1</th>\n",
              "      <th>Outcome</th>\n",
              "    </tr>\n",
              "  </thead>\n",
              "  <tbody>\n",
              "    <tr>\n",
              "      <th>0</th>\n",
              "      <td>0.000020</td>\n",
              "      <td>0.000010</td>\n",
              "      <td>0.000022</td>\n",
              "      <td>0.000037</td>\n",
              "      <td>0.000032</td>\n",
              "      <td>0.000035</td>\n",
              "      <td>0.000016</td>\n",
              "      <td>0.000046</td>\n",
              "      <td>-0.000007</td>\n",
              "      <td>0.000043</td>\n",
              "      <td>...</td>\n",
              "      <td>0.000024</td>\n",
              "      <td>-0.000030</td>\n",
              "      <td>0.000010</td>\n",
              "      <td>-0.000011</td>\n",
              "      <td>-0.000037</td>\n",
              "      <td>0.000008</td>\n",
              "      <td>0.000012</td>\n",
              "      <td>0.000021</td>\n",
              "      <td>0.000021</td>\n",
              "      <td>0.0</td>\n",
              "    </tr>\n",
              "    <tr>\n",
              "      <th>1</th>\n",
              "      <td>0.000022</td>\n",
              "      <td>0.000008</td>\n",
              "      <td>0.000021</td>\n",
              "      <td>0.000039</td>\n",
              "      <td>0.000030</td>\n",
              "      <td>0.000032</td>\n",
              "      <td>0.000015</td>\n",
              "      <td>0.000039</td>\n",
              "      <td>-0.000006</td>\n",
              "      <td>0.000042</td>\n",
              "      <td>...</td>\n",
              "      <td>0.000026</td>\n",
              "      <td>-0.000017</td>\n",
              "      <td>0.000012</td>\n",
              "      <td>-0.000008</td>\n",
              "      <td>-0.000029</td>\n",
              "      <td>0.000010</td>\n",
              "      <td>0.000009</td>\n",
              "      <td>0.000023</td>\n",
              "      <td>0.000023</td>\n",
              "      <td>0.0</td>\n",
              "    </tr>\n",
              "    <tr>\n",
              "      <th>2</th>\n",
              "      <td>0.000021</td>\n",
              "      <td>0.000012</td>\n",
              "      <td>0.000021</td>\n",
              "      <td>0.000040</td>\n",
              "      <td>0.000025</td>\n",
              "      <td>0.000030</td>\n",
              "      <td>0.000013</td>\n",
              "      <td>0.000036</td>\n",
              "      <td>-0.000006</td>\n",
              "      <td>0.000040</td>\n",
              "      <td>...</td>\n",
              "      <td>0.000027</td>\n",
              "      <td>-0.000018</td>\n",
              "      <td>0.000014</td>\n",
              "      <td>-0.000009</td>\n",
              "      <td>-0.000034</td>\n",
              "      <td>0.000012</td>\n",
              "      <td>0.000009</td>\n",
              "      <td>0.000027</td>\n",
              "      <td>0.000027</td>\n",
              "      <td>0.0</td>\n",
              "    </tr>\n",
              "    <tr>\n",
              "      <th>3</th>\n",
              "      <td>0.000019</td>\n",
              "      <td>0.000012</td>\n",
              "      <td>0.000021</td>\n",
              "      <td>0.000039</td>\n",
              "      <td>0.000023</td>\n",
              "      <td>0.000028</td>\n",
              "      <td>0.000013</td>\n",
              "      <td>0.000035</td>\n",
              "      <td>-0.000008</td>\n",
              "      <td>0.000036</td>\n",
              "      <td>...</td>\n",
              "      <td>0.000030</td>\n",
              "      <td>-0.000024</td>\n",
              "      <td>0.000015</td>\n",
              "      <td>-0.000009</td>\n",
              "      <td>-0.000042</td>\n",
              "      <td>0.000009</td>\n",
              "      <td>0.000010</td>\n",
              "      <td>0.000033</td>\n",
              "      <td>0.000033</td>\n",
              "      <td>0.0</td>\n",
              "    </tr>\n",
              "    <tr>\n",
              "      <th>4</th>\n",
              "      <td>0.000019</td>\n",
              "      <td>0.000012</td>\n",
              "      <td>0.000021</td>\n",
              "      <td>0.000036</td>\n",
              "      <td>0.000023</td>\n",
              "      <td>0.000024</td>\n",
              "      <td>0.000012</td>\n",
              "      <td>0.000024</td>\n",
              "      <td>-0.000009</td>\n",
              "      <td>0.000032</td>\n",
              "      <td>...</td>\n",
              "      <td>0.000032</td>\n",
              "      <td>-0.000014</td>\n",
              "      <td>0.000017</td>\n",
              "      <td>-0.000008</td>\n",
              "      <td>-0.000031</td>\n",
              "      <td>0.000009</td>\n",
              "      <td>0.000008</td>\n",
              "      <td>0.000035</td>\n",
              "      <td>0.000035</td>\n",
              "      <td>0.0</td>\n",
              "    </tr>\n",
              "  </tbody>\n",
              "</table>\n",
              "<p>5 rows × 24 columns</p>\n",
              "</div>\n",
              "      <button class=\"colab-df-convert\" onclick=\"convertToInteractive('df-04620c0b-741b-4481-8f9b-b5ee3c339a17')\"\n",
              "              title=\"Convert this dataframe to an interactive table.\"\n",
              "              style=\"display:none;\">\n",
              "        \n",
              "  <svg xmlns=\"http://www.w3.org/2000/svg\" height=\"24px\"viewBox=\"0 0 24 24\"\n",
              "       width=\"24px\">\n",
              "    <path d=\"M0 0h24v24H0V0z\" fill=\"none\"/>\n",
              "    <path d=\"M18.56 5.44l.94 2.06.94-2.06 2.06-.94-2.06-.94-.94-2.06-.94 2.06-2.06.94zm-11 1L8.5 8.5l.94-2.06 2.06-.94-2.06-.94L8.5 2.5l-.94 2.06-2.06.94zm10 10l.94 2.06.94-2.06 2.06-.94-2.06-.94-.94-2.06-.94 2.06-2.06.94z\"/><path d=\"M17.41 7.96l-1.37-1.37c-.4-.4-.92-.59-1.43-.59-.52 0-1.04.2-1.43.59L10.3 9.45l-7.72 7.72c-.78.78-.78 2.05 0 2.83L4 21.41c.39.39.9.59 1.41.59.51 0 1.02-.2 1.41-.59l7.78-7.78 2.81-2.81c.8-.78.8-2.07 0-2.86zM5.41 20L4 18.59l7.72-7.72 1.47 1.35L5.41 20z\"/>\n",
              "  </svg>\n",
              "      </button>\n",
              "      \n",
              "  <style>\n",
              "    .colab-df-container {\n",
              "      display:flex;\n",
              "      flex-wrap:wrap;\n",
              "      gap: 12px;\n",
              "    }\n",
              "\n",
              "    .colab-df-convert {\n",
              "      background-color: #E8F0FE;\n",
              "      border: none;\n",
              "      border-radius: 50%;\n",
              "      cursor: pointer;\n",
              "      display: none;\n",
              "      fill: #1967D2;\n",
              "      height: 32px;\n",
              "      padding: 0 0 0 0;\n",
              "      width: 32px;\n",
              "    }\n",
              "\n",
              "    .colab-df-convert:hover {\n",
              "      background-color: #E2EBFA;\n",
              "      box-shadow: 0px 1px 2px rgba(60, 64, 67, 0.3), 0px 1px 3px 1px rgba(60, 64, 67, 0.15);\n",
              "      fill: #174EA6;\n",
              "    }\n",
              "\n",
              "    [theme=dark] .colab-df-convert {\n",
              "      background-color: #3B4455;\n",
              "      fill: #D2E3FC;\n",
              "    }\n",
              "\n",
              "    [theme=dark] .colab-df-convert:hover {\n",
              "      background-color: #434B5C;\n",
              "      box-shadow: 0px 1px 3px 1px rgba(0, 0, 0, 0.15);\n",
              "      filter: drop-shadow(0px 1px 2px rgba(0, 0, 0, 0.3));\n",
              "      fill: #FFFFFF;\n",
              "    }\n",
              "  </style>\n",
              "\n",
              "      <script>\n",
              "        const buttonEl =\n",
              "          document.querySelector('#df-04620c0b-741b-4481-8f9b-b5ee3c339a17 button.colab-df-convert');\n",
              "        buttonEl.style.display =\n",
              "          google.colab.kernel.accessAllowed ? 'block' : 'none';\n",
              "\n",
              "        async function convertToInteractive(key) {\n",
              "          const element = document.querySelector('#df-04620c0b-741b-4481-8f9b-b5ee3c339a17');\n",
              "          const dataTable =\n",
              "            await google.colab.kernel.invokeFunction('convertToInteractive',\n",
              "                                                     [key], {});\n",
              "          if (!dataTable) return;\n",
              "\n",
              "          const docLinkHtml = 'Like what you see? Visit the ' +\n",
              "            '<a target=\"_blank\" href=https://colab.research.google.com/notebooks/data_table.ipynb>data table notebook</a>'\n",
              "            + ' to learn more about interactive tables.';\n",
              "          element.innerHTML = '';\n",
              "          dataTable['output_type'] = 'display_data';\n",
              "          await google.colab.output.renderOutput(dataTable, element);\n",
              "          const docLink = document.createElement('div');\n",
              "          docLink.innerHTML = docLinkHtml;\n",
              "          element.appendChild(docLink);\n",
              "        }\n",
              "      </script>\n",
              "    </div>\n",
              "  </div>\n",
              "  "
            ],
            "text/plain": [
              "   # FP1-F7     C3-P3     C4-P4     CZ-PZ     F3-C3     F4-C4     F7-T7  \\\n",
              "0  0.000020  0.000010  0.000022  0.000037  0.000032  0.000035  0.000016   \n",
              "1  0.000022  0.000008  0.000021  0.000039  0.000030  0.000032  0.000015   \n",
              "2  0.000021  0.000012  0.000021  0.000040  0.000025  0.000030  0.000013   \n",
              "3  0.000019  0.000012  0.000021  0.000039  0.000023  0.000028  0.000013   \n",
              "4  0.000019  0.000012  0.000021  0.000036  0.000023  0.000024  0.000012   \n",
              "\n",
              "      F8-T8    FP1-F3    FP2-F4  ...     P3-O1     P4-O2     P7-O1     P7-T7  \\\n",
              "0  0.000046 -0.000007  0.000043  ...  0.000024 -0.000030  0.000010 -0.000011   \n",
              "1  0.000039 -0.000006  0.000042  ...  0.000026 -0.000017  0.000012 -0.000008   \n",
              "2  0.000036 -0.000006  0.000040  ...  0.000027 -0.000018  0.000014 -0.000009   \n",
              "3  0.000035 -0.000008  0.000036  ...  0.000030 -0.000024  0.000015 -0.000009   \n",
              "4  0.000024 -0.000009  0.000032  ...  0.000032 -0.000014  0.000017 -0.000008   \n",
              "\n",
              "      P8-O2    T7-FT9     T7-P7   T8-P8-0   T8-P8-1  Outcome  \n",
              "0 -0.000037  0.000008  0.000012  0.000021  0.000021      0.0  \n",
              "1 -0.000029  0.000010  0.000009  0.000023  0.000023      0.0  \n",
              "2 -0.000034  0.000012  0.000009  0.000027  0.000027      0.0  \n",
              "3 -0.000042  0.000009  0.000010  0.000033  0.000033      0.0  \n",
              "4 -0.000031  0.000009  0.000008  0.000035  0.000035      0.0  \n",
              "\n",
              "[5 rows x 24 columns]"
            ]
          },
          "execution_count": 18,
          "metadata": {},
          "output_type": "execute_result"
        }
      ],
      "source": [
        "data_df.head()"
      ]
    },
    {
      "cell_type": "code",
      "execution_count": null,
      "metadata": {
        "colab": {
          "base_uri": "https://localhost:8080/"
        },
        "id": "wqwJoOBApszQ",
        "outputId": "fd124845-31af-4bab-b916-85b978011902"
      },
      "outputs": [
        {
          "data": {
            "text/plain": [
              "(2097150, 24)"
            ]
          },
          "execution_count": 19,
          "metadata": {},
          "output_type": "execute_result"
        }
      ],
      "source": [
        "data_df.shape"
      ]
    },
    {
      "cell_type": "code",
      "execution_count": null,
      "metadata": {
        "id": "THdpvB7yVXWs"
      },
      "outputs": [],
      "source": [
        "df1 = data_df.sample(frac=0.1, random_state=666).reset_index(drop=True)"
      ]
    },
    {
      "cell_type": "code",
      "execution_count": null,
      "metadata": {
        "colab": {
          "base_uri": "https://localhost:8080/",
          "height": 661
        },
        "id": "4xNOwqsSVkac",
        "outputId": "3cb43b07-2440-47d3-9e6d-14e1954cff20"
      },
      "outputs": [
        {
          "data": {
            "text/html": [
              "\n",
              "  <div id=\"df-af10b518-387b-417c-be9d-313422508efd\">\n",
              "    <div class=\"colab-df-container\">\n",
              "      <div>\n",
              "<style scoped>\n",
              "    .dataframe tbody tr th:only-of-type {\n",
              "        vertical-align: middle;\n",
              "    }\n",
              "\n",
              "    .dataframe tbody tr th {\n",
              "        vertical-align: top;\n",
              "    }\n",
              "\n",
              "    .dataframe thead th {\n",
              "        text-align: right;\n",
              "    }\n",
              "</style>\n",
              "<table border=\"1\" class=\"dataframe\">\n",
              "  <thead>\n",
              "    <tr style=\"text-align: right;\">\n",
              "      <th></th>\n",
              "      <th># FP1-F7</th>\n",
              "      <th>C3-P3</th>\n",
              "      <th>C4-P4</th>\n",
              "      <th>CZ-PZ</th>\n",
              "      <th>F3-C3</th>\n",
              "      <th>F4-C4</th>\n",
              "      <th>F7-T7</th>\n",
              "      <th>F8-T8</th>\n",
              "      <th>FP1-F3</th>\n",
              "      <th>FP2-F4</th>\n",
              "      <th>...</th>\n",
              "      <th>P3-O1</th>\n",
              "      <th>P4-O2</th>\n",
              "      <th>P7-O1</th>\n",
              "      <th>P7-T7</th>\n",
              "      <th>P8-O2</th>\n",
              "      <th>T7-FT9</th>\n",
              "      <th>T7-P7</th>\n",
              "      <th>T8-P8-0</th>\n",
              "      <th>T8-P8-1</th>\n",
              "      <th>Outcome</th>\n",
              "    </tr>\n",
              "  </thead>\n",
              "  <tbody>\n",
              "    <tr>\n",
              "      <th>0</th>\n",
              "      <td>0.000041</td>\n",
              "      <td>-1.390000e-05</td>\n",
              "      <td>-0.000002</td>\n",
              "      <td>-0.000005</td>\n",
              "      <td>0.000014</td>\n",
              "      <td>0.000018</td>\n",
              "      <td>1.950000e-07</td>\n",
              "      <td>0.000018</td>\n",
              "      <td>0.000031</td>\n",
              "      <td>0.000010</td>\n",
              "      <td>...</td>\n",
              "      <td>-2.050000e-05</td>\n",
              "      <td>-0.000048</td>\n",
              "      <td>0.000011</td>\n",
              "      <td>4.280000e-05</td>\n",
              "      <td>-0.000006</td>\n",
              "      <td>-0.000016</td>\n",
              "      <td>-4.240000e-05</td>\n",
              "      <td>-0.000013</td>\n",
              "      <td>-0.000013</td>\n",
              "      <td>0.0</td>\n",
              "    </tr>\n",
              "    <tr>\n",
              "      <th>1</th>\n",
              "      <td>-0.000080</td>\n",
              "      <td>-5.880000e-05</td>\n",
              "      <td>-0.000070</td>\n",
              "      <td>-0.000052</td>\n",
              "      <td>-0.000060</td>\n",
              "      <td>-0.000017</td>\n",
              "      <td>-5.920000e-05</td>\n",
              "      <td>0.000012</td>\n",
              "      <td>0.000011</td>\n",
              "      <td>0.000078</td>\n",
              "      <td>...</td>\n",
              "      <td>-3.340000e-05</td>\n",
              "      <td>-0.000012</td>\n",
              "      <td>0.000055</td>\n",
              "      <td>5.720000e-05</td>\n",
              "      <td>-0.000044</td>\n",
              "      <td>0.000011</td>\n",
              "      <td>-5.680000e-05</td>\n",
              "      <td>-0.000025</td>\n",
              "      <td>-0.000025</td>\n",
              "      <td>0.0</td>\n",
              "    </tr>\n",
              "    <tr>\n",
              "      <th>2</th>\n",
              "      <td>-0.000014</td>\n",
              "      <td>2.910000e-05</td>\n",
              "      <td>0.000053</td>\n",
              "      <td>0.000053</td>\n",
              "      <td>-0.000003</td>\n",
              "      <td>-0.000042</td>\n",
              "      <td>2.360000e-05</td>\n",
              "      <td>-0.000069</td>\n",
              "      <td>-0.000045</td>\n",
              "      <td>-0.000050</td>\n",
              "      <td>...</td>\n",
              "      <td>3.500000e-05</td>\n",
              "      <td>0.000060</td>\n",
              "      <td>0.000028</td>\n",
              "      <td>2.170000e-05</td>\n",
              "      <td>0.000040</td>\n",
              "      <td>0.000014</td>\n",
              "      <td>-2.130000e-05</td>\n",
              "      <td>0.000074</td>\n",
              "      <td>0.000074</td>\n",
              "      <td>0.0</td>\n",
              "    </tr>\n",
              "    <tr>\n",
              "      <th>3</th>\n",
              "      <td>-0.000029</td>\n",
              "      <td>-9.770000e-07</td>\n",
              "      <td>-0.000033</td>\n",
              "      <td>-0.000017</td>\n",
              "      <td>-0.000023</td>\n",
              "      <td>-0.000019</td>\n",
              "      <td>-2.790000e-05</td>\n",
              "      <td>-0.000013</td>\n",
              "      <td>-0.000046</td>\n",
              "      <td>-0.000019</td>\n",
              "      <td>...</td>\n",
              "      <td>-3.710000e-06</td>\n",
              "      <td>-0.000008</td>\n",
              "      <td>-0.000002</td>\n",
              "      <td>1.500000e-05</td>\n",
              "      <td>-0.000015</td>\n",
              "      <td>0.000013</td>\n",
              "      <td>-1.470000e-05</td>\n",
              "      <td>-0.000010</td>\n",
              "      <td>-0.000010</td>\n",
              "      <td>1.0</td>\n",
              "    </tr>\n",
              "    <tr>\n",
              "      <th>4</th>\n",
              "      <td>0.000138</td>\n",
              "      <td>3.810000e-05</td>\n",
              "      <td>-0.000156</td>\n",
              "      <td>-0.000085</td>\n",
              "      <td>-0.000004</td>\n",
              "      <td>0.000139</td>\n",
              "      <td>-3.730000e-05</td>\n",
              "      <td>-0.000013</td>\n",
              "      <td>0.000140</td>\n",
              "      <td>0.000097</td>\n",
              "      <td>...</td>\n",
              "      <td>-1.537480e-04</td>\n",
              "      <td>-0.000154</td>\n",
              "      <td>-0.000039</td>\n",
              "      <td>3.890000e-05</td>\n",
              "      <td>-0.000156</td>\n",
              "      <td>-0.000045</td>\n",
              "      <td>-3.850000e-05</td>\n",
              "      <td>-0.000032</td>\n",
              "      <td>-0.000032</td>\n",
              "      <td>0.0</td>\n",
              "    </tr>\n",
              "    <tr>\n",
              "      <th>...</th>\n",
              "      <td>...</td>\n",
              "      <td>...</td>\n",
              "      <td>...</td>\n",
              "      <td>...</td>\n",
              "      <td>...</td>\n",
              "      <td>...</td>\n",
              "      <td>...</td>\n",
              "      <td>...</td>\n",
              "      <td>...</td>\n",
              "      <td>...</td>\n",
              "      <td>...</td>\n",
              "      <td>...</td>\n",
              "      <td>...</td>\n",
              "      <td>...</td>\n",
              "      <td>...</td>\n",
              "      <td>...</td>\n",
              "      <td>...</td>\n",
              "      <td>...</td>\n",
              "      <td>...</td>\n",
              "      <td>...</td>\n",
              "      <td>...</td>\n",
              "    </tr>\n",
              "    <tr>\n",
              "      <th>209710</th>\n",
              "      <td>0.000335</td>\n",
              "      <td>-5.490000e-05</td>\n",
              "      <td>-0.000040</td>\n",
              "      <td>-0.000020</td>\n",
              "      <td>0.000061</td>\n",
              "      <td>-0.000033</td>\n",
              "      <td>-2.018070e-04</td>\n",
              "      <td>0.000225</td>\n",
              "      <td>-0.000033</td>\n",
              "      <td>0.000014</td>\n",
              "      <td>...</td>\n",
              "      <td>-4.490000e-06</td>\n",
              "      <td>0.000032</td>\n",
              "      <td>-0.000064</td>\n",
              "      <td>1.006110e-04</td>\n",
              "      <td>0.000036</td>\n",
              "      <td>0.000052</td>\n",
              "      <td>-1.002200e-04</td>\n",
              "      <td>0.000014</td>\n",
              "      <td>0.000014</td>\n",
              "      <td>1.0</td>\n",
              "    </tr>\n",
              "    <tr>\n",
              "      <th>209711</th>\n",
              "      <td>-0.000015</td>\n",
              "      <td>1.370000e-06</td>\n",
              "      <td>-0.000004</td>\n",
              "      <td>0.000001</td>\n",
              "      <td>-0.000023</td>\n",
              "      <td>0.000006</td>\n",
              "      <td>-9.960000e-06</td>\n",
              "      <td>-0.000007</td>\n",
              "      <td>0.000003</td>\n",
              "      <td>-0.000027</td>\n",
              "      <td>...</td>\n",
              "      <td>-1.950000e-07</td>\n",
              "      <td>0.000003</td>\n",
              "      <td>0.000006</td>\n",
              "      <td>-1.950000e-07</td>\n",
              "      <td>0.000003</td>\n",
              "      <td>-0.000014</td>\n",
              "      <td>5.860000e-07</td>\n",
              "      <td>0.000007</td>\n",
              "      <td>0.000007</td>\n",
              "      <td>0.0</td>\n",
              "    </tr>\n",
              "    <tr>\n",
              "      <th>209712</th>\n",
              "      <td>-0.000043</td>\n",
              "      <td>-1.580000e-05</td>\n",
              "      <td>-0.000080</td>\n",
              "      <td>-0.000078</td>\n",
              "      <td>-0.000118</td>\n",
              "      <td>-0.000040</td>\n",
              "      <td>-9.510000e-05</td>\n",
              "      <td>0.000071</td>\n",
              "      <td>0.000090</td>\n",
              "      <td>0.000083</td>\n",
              "      <td>...</td>\n",
              "      <td>8.810000e-05</td>\n",
              "      <td>-0.000040</td>\n",
              "      <td>0.000104</td>\n",
              "      <td>-7.870000e-05</td>\n",
              "      <td>-0.000093</td>\n",
              "      <td>0.000123</td>\n",
              "      <td>7.910000e-05</td>\n",
              "      <td>-0.000189</td>\n",
              "      <td>-0.000189</td>\n",
              "      <td>1.0</td>\n",
              "    </tr>\n",
              "    <tr>\n",
              "      <th>209713</th>\n",
              "      <td>-0.000065</td>\n",
              "      <td>-6.230000e-05</td>\n",
              "      <td>-0.000008</td>\n",
              "      <td>-0.000014</td>\n",
              "      <td>0.000027</td>\n",
              "      <td>-0.000017</td>\n",
              "      <td>-4.200000e-05</td>\n",
              "      <td>-0.000026</td>\n",
              "      <td>-0.000121</td>\n",
              "      <td>-0.000085</td>\n",
              "      <td>...</td>\n",
              "      <td>6.150000e-05</td>\n",
              "      <td>0.000009</td>\n",
              "      <td>0.000030</td>\n",
              "      <td>1.660000e-05</td>\n",
              "      <td>0.000052</td>\n",
              "      <td>0.000013</td>\n",
              "      <td>-1.620000e-05</td>\n",
              "      <td>-0.000008</td>\n",
              "      <td>-0.000008</td>\n",
              "      <td>0.0</td>\n",
              "    </tr>\n",
              "    <tr>\n",
              "      <th>209714</th>\n",
              "      <td>-0.000309</td>\n",
              "      <td>2.604150e-04</td>\n",
              "      <td>0.000129</td>\n",
              "      <td>0.000311</td>\n",
              "      <td>-0.000221</td>\n",
              "      <td>-0.000100</td>\n",
              "      <td>-9.440000e-05</td>\n",
              "      <td>-0.000050</td>\n",
              "      <td>-0.000222</td>\n",
              "      <td>-0.000237</td>\n",
              "      <td>...</td>\n",
              "      <td>1.346030e-04</td>\n",
              "      <td>0.000133</td>\n",
              "      <td>0.000219</td>\n",
              "      <td>-1.346030e-04</td>\n",
              "      <td>0.000254</td>\n",
              "      <td>0.000061</td>\n",
              "      <td>1.349940e-04</td>\n",
              "      <td>-0.000142</td>\n",
              "      <td>-0.000142</td>\n",
              "      <td>1.0</td>\n",
              "    </tr>\n",
              "  </tbody>\n",
              "</table>\n",
              "<p>209715 rows × 24 columns</p>\n",
              "</div>\n",
              "      <button class=\"colab-df-convert\" onclick=\"convertToInteractive('df-af10b518-387b-417c-be9d-313422508efd')\"\n",
              "              title=\"Convert this dataframe to an interactive table.\"\n",
              "              style=\"display:none;\">\n",
              "        \n",
              "  <svg xmlns=\"http://www.w3.org/2000/svg\" height=\"24px\"viewBox=\"0 0 24 24\"\n",
              "       width=\"24px\">\n",
              "    <path d=\"M0 0h24v24H0V0z\" fill=\"none\"/>\n",
              "    <path d=\"M18.56 5.44l.94 2.06.94-2.06 2.06-.94-2.06-.94-.94-2.06-.94 2.06-2.06.94zm-11 1L8.5 8.5l.94-2.06 2.06-.94-2.06-.94L8.5 2.5l-.94 2.06-2.06.94zm10 10l.94 2.06.94-2.06 2.06-.94-2.06-.94-.94-2.06-.94 2.06-2.06.94z\"/><path d=\"M17.41 7.96l-1.37-1.37c-.4-.4-.92-.59-1.43-.59-.52 0-1.04.2-1.43.59L10.3 9.45l-7.72 7.72c-.78.78-.78 2.05 0 2.83L4 21.41c.39.39.9.59 1.41.59.51 0 1.02-.2 1.41-.59l7.78-7.78 2.81-2.81c.8-.78.8-2.07 0-2.86zM5.41 20L4 18.59l7.72-7.72 1.47 1.35L5.41 20z\"/>\n",
              "  </svg>\n",
              "      </button>\n",
              "      \n",
              "  <style>\n",
              "    .colab-df-container {\n",
              "      display:flex;\n",
              "      flex-wrap:wrap;\n",
              "      gap: 12px;\n",
              "    }\n",
              "\n",
              "    .colab-df-convert {\n",
              "      background-color: #E8F0FE;\n",
              "      border: none;\n",
              "      border-radius: 50%;\n",
              "      cursor: pointer;\n",
              "      display: none;\n",
              "      fill: #1967D2;\n",
              "      height: 32px;\n",
              "      padding: 0 0 0 0;\n",
              "      width: 32px;\n",
              "    }\n",
              "\n",
              "    .colab-df-convert:hover {\n",
              "      background-color: #E2EBFA;\n",
              "      box-shadow: 0px 1px 2px rgba(60, 64, 67, 0.3), 0px 1px 3px 1px rgba(60, 64, 67, 0.15);\n",
              "      fill: #174EA6;\n",
              "    }\n",
              "\n",
              "    [theme=dark] .colab-df-convert {\n",
              "      background-color: #3B4455;\n",
              "      fill: #D2E3FC;\n",
              "    }\n",
              "\n",
              "    [theme=dark] .colab-df-convert:hover {\n",
              "      background-color: #434B5C;\n",
              "      box-shadow: 0px 1px 3px 1px rgba(0, 0, 0, 0.15);\n",
              "      filter: drop-shadow(0px 1px 2px rgba(0, 0, 0, 0.3));\n",
              "      fill: #FFFFFF;\n",
              "    }\n",
              "  </style>\n",
              "\n",
              "      <script>\n",
              "        const buttonEl =\n",
              "          document.querySelector('#df-af10b518-387b-417c-be9d-313422508efd button.colab-df-convert');\n",
              "        buttonEl.style.display =\n",
              "          google.colab.kernel.accessAllowed ? 'block' : 'none';\n",
              "\n",
              "        async function convertToInteractive(key) {\n",
              "          const element = document.querySelector('#df-af10b518-387b-417c-be9d-313422508efd');\n",
              "          const dataTable =\n",
              "            await google.colab.kernel.invokeFunction('convertToInteractive',\n",
              "                                                     [key], {});\n",
              "          if (!dataTable) return;\n",
              "\n",
              "          const docLinkHtml = 'Like what you see? Visit the ' +\n",
              "            '<a target=\"_blank\" href=https://colab.research.google.com/notebooks/data_table.ipynb>data table notebook</a>'\n",
              "            + ' to learn more about interactive tables.';\n",
              "          element.innerHTML = '';\n",
              "          dataTable['output_type'] = 'display_data';\n",
              "          await google.colab.output.renderOutput(dataTable, element);\n",
              "          const docLink = document.createElement('div');\n",
              "          docLink.innerHTML = docLinkHtml;\n",
              "          element.appendChild(docLink);\n",
              "        }\n",
              "      </script>\n",
              "    </div>\n",
              "  </div>\n",
              "  "
            ],
            "text/plain": [
              "        # FP1-F7         C3-P3     C4-P4     CZ-PZ     F3-C3     F4-C4  \\\n",
              "0       0.000041 -1.390000e-05 -0.000002 -0.000005  0.000014  0.000018   \n",
              "1      -0.000080 -5.880000e-05 -0.000070 -0.000052 -0.000060 -0.000017   \n",
              "2      -0.000014  2.910000e-05  0.000053  0.000053 -0.000003 -0.000042   \n",
              "3      -0.000029 -9.770000e-07 -0.000033 -0.000017 -0.000023 -0.000019   \n",
              "4       0.000138  3.810000e-05 -0.000156 -0.000085 -0.000004  0.000139   \n",
              "...          ...           ...       ...       ...       ...       ...   \n",
              "209710  0.000335 -5.490000e-05 -0.000040 -0.000020  0.000061 -0.000033   \n",
              "209711 -0.000015  1.370000e-06 -0.000004  0.000001 -0.000023  0.000006   \n",
              "209712 -0.000043 -1.580000e-05 -0.000080 -0.000078 -0.000118 -0.000040   \n",
              "209713 -0.000065 -6.230000e-05 -0.000008 -0.000014  0.000027 -0.000017   \n",
              "209714 -0.000309  2.604150e-04  0.000129  0.000311 -0.000221 -0.000100   \n",
              "\n",
              "               F7-T7     F8-T8    FP1-F3    FP2-F4  ...         P3-O1  \\\n",
              "0       1.950000e-07  0.000018  0.000031  0.000010  ... -2.050000e-05   \n",
              "1      -5.920000e-05  0.000012  0.000011  0.000078  ... -3.340000e-05   \n",
              "2       2.360000e-05 -0.000069 -0.000045 -0.000050  ...  3.500000e-05   \n",
              "3      -2.790000e-05 -0.000013 -0.000046 -0.000019  ... -3.710000e-06   \n",
              "4      -3.730000e-05 -0.000013  0.000140  0.000097  ... -1.537480e-04   \n",
              "...              ...       ...       ...       ...  ...           ...   \n",
              "209710 -2.018070e-04  0.000225 -0.000033  0.000014  ... -4.490000e-06   \n",
              "209711 -9.960000e-06 -0.000007  0.000003 -0.000027  ... -1.950000e-07   \n",
              "209712 -9.510000e-05  0.000071  0.000090  0.000083  ...  8.810000e-05   \n",
              "209713 -4.200000e-05 -0.000026 -0.000121 -0.000085  ...  6.150000e-05   \n",
              "209714 -9.440000e-05 -0.000050 -0.000222 -0.000237  ...  1.346030e-04   \n",
              "\n",
              "           P4-O2     P7-O1         P7-T7     P8-O2    T7-FT9         T7-P7  \\\n",
              "0      -0.000048  0.000011  4.280000e-05 -0.000006 -0.000016 -4.240000e-05   \n",
              "1      -0.000012  0.000055  5.720000e-05 -0.000044  0.000011 -5.680000e-05   \n",
              "2       0.000060  0.000028  2.170000e-05  0.000040  0.000014 -2.130000e-05   \n",
              "3      -0.000008 -0.000002  1.500000e-05 -0.000015  0.000013 -1.470000e-05   \n",
              "4      -0.000154 -0.000039  3.890000e-05 -0.000156 -0.000045 -3.850000e-05   \n",
              "...          ...       ...           ...       ...       ...           ...   \n",
              "209710  0.000032 -0.000064  1.006110e-04  0.000036  0.000052 -1.002200e-04   \n",
              "209711  0.000003  0.000006 -1.950000e-07  0.000003 -0.000014  5.860000e-07   \n",
              "209712 -0.000040  0.000104 -7.870000e-05 -0.000093  0.000123  7.910000e-05   \n",
              "209713  0.000009  0.000030  1.660000e-05  0.000052  0.000013 -1.620000e-05   \n",
              "209714  0.000133  0.000219 -1.346030e-04  0.000254  0.000061  1.349940e-04   \n",
              "\n",
              "         T8-P8-0   T8-P8-1  Outcome  \n",
              "0      -0.000013 -0.000013      0.0  \n",
              "1      -0.000025 -0.000025      0.0  \n",
              "2       0.000074  0.000074      0.0  \n",
              "3      -0.000010 -0.000010      1.0  \n",
              "4      -0.000032 -0.000032      0.0  \n",
              "...          ...       ...      ...  \n",
              "209710  0.000014  0.000014      1.0  \n",
              "209711  0.000007  0.000007      0.0  \n",
              "209712 -0.000189 -0.000189      1.0  \n",
              "209713 -0.000008 -0.000008      0.0  \n",
              "209714 -0.000142 -0.000142      1.0  \n",
              "\n",
              "[209715 rows x 24 columns]"
            ]
          },
          "execution_count": 21,
          "metadata": {},
          "output_type": "execute_result"
        }
      ],
      "source": [
        "df1"
      ]
    },
    {
      "cell_type": "code",
      "execution_count": null,
      "metadata": {
        "colab": {
          "base_uri": "https://localhost:8080/"
        },
        "id": "RrgvManppxed",
        "outputId": "81f8fd99-7728-44ee-ebb5-310a6d472c40"
      },
      "outputs": [
        {
          "data": {
            "text/plain": [
              "(105223, 24)"
            ]
          },
          "execution_count": 23,
          "metadata": {},
          "output_type": "execute_result"
        }
      ],
      "source": [
        "df1[df1['Outcome'] == 0].shape"
      ]
    },
    {
      "cell_type": "code",
      "execution_count": null,
      "metadata": {
        "colab": {
          "base_uri": "https://localhost:8080/"
        },
        "id": "UwCll0D3p4Zf",
        "outputId": "5105a121-1cf3-4935-c09b-482bc7135f0a"
      },
      "outputs": [
        {
          "data": {
            "text/plain": [
              "(104492, 24)"
            ]
          },
          "execution_count": 24,
          "metadata": {},
          "output_type": "execute_result"
        }
      ],
      "source": [
        "df1[df1['Outcome'] == 1].shape"
      ]
    },
    {
      "cell_type": "code",
      "execution_count": null,
      "metadata": {
        "id": "azyuPw6ErlTv"
      },
      "outputs": [],
      "source": [
        "y = df1['Outcome']\n",
        "X = df1.drop(['Outcome'], axis=1)"
      ]
    },
    {
      "cell_type": "code",
      "execution_count": null,
      "metadata": {
        "colab": {
          "base_uri": "https://localhost:8080/",
          "height": 1000
        },
        "id": "M8CIA6Iktl5p",
        "outputId": "e311feac-312c-457f-8ff1-6a0a2865a09b"
      },
      "outputs": [
        {
          "data": {
            "image/png": "[encoded data removed]",
            "text/plain": [
              "<Figure size 864x3456 with 21 Axes>"
            ]
          },
          "metadata": {},
          "output_type": "display_data"
        }
      ],
      "source": [
        "import matplotlib.pyplot as plt\n",
        "\n",
        "fig, axes = plt.subplots(len(X.columns)//3, 3, figsize=(12, 48))\n",
        "\n",
        "i = 0\n",
        "for triaxis in axes:\n",
        "    for axis in triaxis:\n",
        "        X.hist(column = X.columns[i], bins = 100, ax=axis)\n",
        "        i = i+1"
      ]
    },
    {
      "cell_type": "code",
      "execution_count": null,
      "metadata": {
        "id": "GbXJZvYCrJoX"
      },
      "outputs": [],
      "source": [
        "from sklearn.model_selection import train_test_split"
      ]
    },
    {
      "cell_type": "code",
      "execution_count": null,
      "metadata": {
        "id": "WO4dgjGCrKGS"
      },
      "outputs": [],
      "source": [
        "X_train, X_test, y_train, y_test = train_test_split(X,y,test_size=0.2, stratify=y, random_state=666)"
      ]
    },
    {
      "cell_type": "code",
      "execution_count": null,
      "metadata": {
        "colab": {
          "base_uri": "https://localhost:8080/"
        },
        "id": "NukH4f3yW78U",
        "outputId": "073195f7-0150-403c-ddcc-75f35e2414b6"
      },
      "outputs": [
        {
          "data": {
            "text/plain": [
              "(41943, 23)"
            ]
          },
          "execution_count": 32,
          "metadata": {},
          "output_type": "execute_result"
        }
      ],
      "source": [
        "X_test.shape"
      ]
    },
    {
      "cell_type": "code",
      "execution_count": null,
      "metadata": {
        "id": "UTMY81wAsZEC"
      },
      "outputs": [],
      "source": [
        "from sklearn.svm import SVC\n",
        "clf = SVC(verbose=1)"
      ]
    },
    {
      "cell_type": "code",
      "execution_count": null,
      "metadata": {
        "colab": {
          "base_uri": "https://localhost:8080/"
        },
        "id": "KCLVfY4HsjWC",
        "outputId": "e1519b87-f3b7-4650-f7ac-8e5794e7b0bb"
      },
      "outputs": [
        {
          "name": "stdout",
          "output_type": "stream",
          "text": [
            "[LibSVM]"
          ]
        },
        {
          "data": {
            "text/plain": [
              "SVC(verbose=1)"
            ]
          },
          "execution_count": 34,
          "metadata": {},
          "output_type": "execute_result"
        }
      ],
      "source": [
        "clf.fit(X_train, y_train)"
      ]
    },
    {
      "cell_type": "code",
      "execution_count": null,
      "metadata": {
        "colab": {
          "base_uri": "https://localhost:8080/"
        },
        "id": "lP-UqnMQsnvT",
        "outputId": "34827947-9592-41cc-fafe-2200e07a95e2"
      },
      "outputs": [
        {
          "data": {
            "text/plain": [
              "0.8310325918508452"
            ]
          },
          "execution_count": 35,
          "metadata": {},
          "output_type": "execute_result"
        }
      ],
      "source": [
        "clf.score(X_test, y_test)"
      ]
    },
    {
      "cell_type": "code",
      "execution_count": null,
      "metadata": {
        "id": "52KWkKUke9Bg"
      },
      "outputs": [],
      "source": [
        "import xgboost as xgb"
      ]
    },
    {
      "cell_type": "code",
      "execution_count": null,
      "metadata": {
        "id": "UYUe3OIFivMq"
      },
      "outputs": [],
      "source": [
        "clf2 = xgb.XGBClassifier()"
      ]
    },
    {
      "cell_type": "code",
      "execution_count": null,
      "metadata": {
        "colab": {
          "base_uri": "https://localhost:8080/"
        },
        "id": "pdPZIeCFi_R-",
        "outputId": "bda4a826-4217-4fa6-9392-1f744b2e9de4"
      },
      "outputs": [
        {
          "data": {
            "text/plain": [
              "XGBClassifier()"
            ]
          },
          "execution_count": 38,
          "metadata": {},
          "output_type": "execute_result"
        }
      ],
      "source": [
        "clf2.fit(X_train, y_train)"
      ]
    },
    {
      "cell_type": "code",
      "execution_count": null,
      "metadata": {
        "colab": {
          "base_uri": "https://localhost:8080/"
        },
        "id": "y-f_eF9ljMbd",
        "outputId": "4e11724e-f25d-4963-c6bf-05b904f2ef6e"
      },
      "outputs": [
        {
          "data": {
            "text/plain": [
              "0.8028514889254464"
            ]
          },
          "execution_count": 41,
          "metadata": {},
          "output_type": "execute_result"
        }
      ],
      "source": [
        "clf2.score(X_test, y_test)"
      ]
    }
  ],
  "metadata": {
    "accelerator": "GPU",
    "colab": {
      "provenance": [],
      "authorship_tag": "ABX9TyOE/YGC2igKaXT5OY9cdquU",
      "include_colab_link": true
    },
    "gpuClass": "standard",
    "kernelspec": {
      "display_name": "Python 3",
      "name": "python3"
    },
    "language_info": {
      "name": "python"
    }
  },
  "nbformat": 4,
  "nbformat_minor": 0
}