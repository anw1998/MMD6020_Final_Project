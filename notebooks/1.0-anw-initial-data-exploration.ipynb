{
 "cells": [
  {
   "cell_type": "code",
   "source": [
    "pip install comet_ml -q"
   ],
   "metadata": {
    "colab": {
     "base_uri": "https://localhost:8080/"
    },
    "id": "P0D8yz_qNTSD",
    "executionInfo": {
     "status": "ok",
     "timestamp": 1668967403008,
     "user_tz": 300,
     "elapsed": 13620,
     "user": {
      "displayName": "An Ni Wu",
      "userId": "11154020135232560694"
     }
    },
    "outputId": "04b4a7e7-2b51-4b64-8115-f0271d82ac55"
   },
   "execution_count": 57,
   "outputs": [
    {
     "output_type": "stream",
     "name": "stdout",
     "text": [
      "\u001B[K     |████████████████████████████████| 441 kB 27.3 MB/s \n",
      "\u001B[K     |████████████████████████████████| 168 kB 67.3 MB/s \n",
      "\u001B[K     |████████████████████████████████| 498 kB 71.1 MB/s \n",
      "\u001B[K     |████████████████████████████████| 54 kB 3.3 MB/s \n",
      "\u001B[K     |████████████████████████████████| 54 kB 3.3 MB/s \n",
      "\u001B[K     |████████████████████████████████| 130 kB 68.0 MB/s \n",
      "\u001B[K     |████████████████████████████████| 140 kB 74.6 MB/s \n",
      "\u001B[K     |████████████████████████████████| 127 kB 62.3 MB/s \n",
      "\u001B[K     |████████████████████████████████| 166 kB 66.3 MB/s \n",
      "\u001B[K     |████████████████████████████████| 166 kB 74.3 MB/s \n",
      "\u001B[K     |████████████████████████████████| 162 kB 80.0 MB/s \n",
      "\u001B[K     |████████████████████████████████| 162 kB 71.6 MB/s \n",
      "\u001B[K     |████████████████████████████████| 158 kB 69.4 MB/s \n",
      "\u001B[K     |████████████████████████████████| 157 kB 75.4 MB/s \n",
      "\u001B[K     |████████████████████████████████| 157 kB 49.7 MB/s \n",
      "\u001B[K     |████████████████████████████████| 157 kB 74.0 MB/s \n",
      "\u001B[K     |████████████████████████████████| 157 kB 74.1 MB/s \n",
      "\u001B[K     |████████████████████████████████| 157 kB 68.3 MB/s \n",
      "\u001B[K     |████████████████████████████████| 157 kB 74.1 MB/s \n",
      "\u001B[K     |████████████████████████████████| 157 kB 76.6 MB/s \n",
      "\u001B[K     |████████████████████████████████| 156 kB 70.8 MB/s \n",
      "\u001B[?25h  Building wheel for configobj (setup.py) ... \u001B[?25l\u001B[?25hdone\n"
     ]
    }
   ]
  },
  {
   "cell_type": "code",
   "execution_count": 1,
   "metadata": {
    "colab": {
     "base_uri": "https://localhost:8080/"
    },
    "executionInfo": {
     "elapsed": 30228,
     "status": "ok",
     "timestamp": 1668961543170,
     "user": {
      "displayName": "An Ni Wu",
      "userId": "11154020135232560694"
     },
     "user_tz": 300
    },
    "id": "wZpR_3QVn4Mq",
    "outputId": "104e93a3-0caf-4899-de81-c3babb7af698"
   },
   "outputs": [
    {
     "output_type": "stream",
     "name": "stdout",
     "text": [
      "Mounted at /content/drive\n"
     ]
    }
   ],
   "source": [
    "from google.colab import drive\n",
    "drive.mount('/content/drive')"
   ]
  },
  {
   "cell_type": "code",
   "source": [
    "import sys\n",
    "print(sys.version)"
   ],
   "metadata": {
    "colab": {
     "base_uri": "https://localhost:8080/"
    },
    "id": "U7B8z8GDIlbc",
    "executionInfo": {
     "status": "ok",
     "timestamp": 1668966292602,
     "user_tz": 300,
     "elapsed": 344,
     "user": {
      "displayName": "An Ni Wu",
      "userId": "11154020135232560694"
     }
    },
    "outputId": "f9790411-a8aa-4901-a752-0c7a17d811c5"
   },
   "execution_count": 55,
   "outputs": [
    {
     "output_type": "stream",
     "name": "stdout",
     "text": [
      "3.7.15 (default, Oct 12 2022, 19:14:55) \n",
      "[GCC 7.5.0]\n"
     ]
    }
   ]
  },
  {
   "cell_type": "code",
   "source": [
    "from dotenv import load_dotenv\n",
    "load_dotenv();"
   ],
   "metadata": {
    "id": "PadljdPsM4Tt"
   },
   "execution_count": null,
   "outputs": []
  },
  {
   "cell_type": "code",
   "execution_count": 56,
   "metadata": {
    "id": "1rHcr8KxrHFH",
    "executionInfo": {
     "status": "ok",
     "timestamp": 1668967139758,
     "user_tz": 300,
     "elapsed": 674,
     "user": {
      "displayName": "An Ni Wu",
      "userId": "11154020135232560694"
     }
    }
   },
   "outputs": [],
   "source": [
    "import os\n",
    "import numpy as np\n",
    "import pandas as pd\n",
    "import matplotlib.pyplot as plt\n",
    "import seaborn as sns\n",
    "sns.set()"
   ]
  },
  {
   "cell_type": "code",
   "source": [
    "# import comet_ml at the top of your file\n",
    "from comet_ml import Experiment\n",
    "\n",
    "# Create an experiment with your api key\n",
    "experiment = Experiment(\n",
    "    api_key=os.environ.get('COMET_API_KEY'),\n",
    "    project_name=\"ml-models\",\n",
    "    workspace=\"mmd6020-projet-pratique\",\n",
    ")"
   ],
   "metadata": {
    "id": "QerYuQeqNm7h"
   },
   "execution_count": null,
   "outputs": []
  },
  {
   "cell_type": "markdown",
   "metadata": {
    "id": "hIJkhjM7YXjP"
   },
   "source": [
    "# Data Exploration"
   ]
  },
  {
   "cell_type": "code",
   "execution_count": 3,
   "metadata": {
    "id": "uN0kY1g92C9N",
    "executionInfo": {
     "status": "ok",
     "timestamp": 1668961554752,
     "user_tz": 300,
     "elapsed": 11045,
     "user": {
      "displayName": "An Ni Wu",
      "userId": "11154020135232560694"
     }
    }
   },
   "outputs": [],
   "source": [
    "# source of dataset: https://ieee-dataport.org/open-access/preprocessed-chb-mit-scalp-eeg-database\n",
    "data_df = pd.read_csv('/content/drive/MyDrive/chbmit_preprocessed_data.csv')"
   ]
  },
  {
   "cell_type": "code",
   "execution_count": 4,
   "metadata": {
    "colab": {
     "base_uri": "https://localhost:8080/",
     "height": 236
    },
    "executionInfo": {
     "elapsed": 76,
     "status": "ok",
     "timestamp": 1668961554754,
     "user": {
      "displayName": "An Ni Wu",
      "userId": "11154020135232560694"
     },
     "user_tz": 300
    },
    "id": "Q2jGLBSeeptk",
    "outputId": "3254c366-7366-4468-871e-0cd93f013f7f"
   },
   "outputs": [
    {
     "output_type": "execute_result",
     "data": {
      "text/plain": [
       "   # FP1-F7     C3-P3     C4-P4     CZ-PZ     F3-C3     F4-C4     F7-T7  \\\n",
       "0  0.000020  0.000010  0.000022  0.000037  0.000032  0.000035  0.000016   \n",
       "1  0.000022  0.000008  0.000021  0.000039  0.000030  0.000032  0.000015   \n",
       "2  0.000021  0.000012  0.000021  0.000040  0.000025  0.000030  0.000013   \n",
       "3  0.000019  0.000012  0.000021  0.000039  0.000023  0.000028  0.000013   \n",
       "4  0.000019  0.000012  0.000021  0.000036  0.000023  0.000024  0.000012   \n",
       "\n",
       "      F8-T8    FP1-F3    FP2-F4  ...     P3-O1     P4-O2     P7-O1     P7-T7  \\\n",
       "0  0.000046 -0.000007  0.000043  ...  0.000024 -0.000030  0.000010 -0.000011   \n",
       "1  0.000039 -0.000006  0.000042  ...  0.000026 -0.000017  0.000012 -0.000008   \n",
       "2  0.000036 -0.000006  0.000040  ...  0.000027 -0.000018  0.000014 -0.000009   \n",
       "3  0.000035 -0.000008  0.000036  ...  0.000030 -0.000024  0.000015 -0.000009   \n",
       "4  0.000024 -0.000009  0.000032  ...  0.000032 -0.000014  0.000017 -0.000008   \n",
       "\n",
       "      P8-O2    T7-FT9     T7-P7   T8-P8-0   T8-P8-1  Outcome  \n",
       "0 -0.000037  0.000008  0.000012  0.000021  0.000021      0.0  \n",
       "1 -0.000029  0.000010  0.000009  0.000023  0.000023      0.0  \n",
       "2 -0.000034  0.000012  0.000009  0.000027  0.000027      0.0  \n",
       "3 -0.000042  0.000009  0.000010  0.000033  0.000033      0.0  \n",
       "4 -0.000031  0.000009  0.000008  0.000035  0.000035      0.0  \n",
       "\n",
       "[5 rows x 24 columns]"
      ],
      "text/html": [
       "\n",
       "  <div id=\"df-69e86b97-a1d7-4449-a873-5d8a003226a1\">\n",
       "    <div class=\"colab-df-container\">\n",
       "      <div>\n",
       "<style scoped>\n",
       "    .dataframe tbody tr th:only-of-type {\n",
       "        vertical-align: middle;\n",
       "    }\n",
       "\n",
       "    .dataframe tbody tr th {\n",
       "        vertical-align: top;\n",
       "    }\n",
       "\n",
       "    .dataframe thead th {\n",
       "        text-align: right;\n",
       "    }\n",
       "</style>\n",
       "<table border=\"1\" class=\"dataframe\">\n",
       "  <thead>\n",
       "    <tr style=\"text-align: right;\">\n",
       "      <th></th>\n",
       "      <th># FP1-F7</th>\n",
       "      <th>C3-P3</th>\n",
       "      <th>C4-P4</th>\n",
       "      <th>CZ-PZ</th>\n",
       "      <th>F3-C3</th>\n",
       "      <th>F4-C4</th>\n",
       "      <th>F7-T7</th>\n",
       "      <th>F8-T8</th>\n",
       "      <th>FP1-F3</th>\n",
       "      <th>FP2-F4</th>\n",
       "      <th>...</th>\n",
       "      <th>P3-O1</th>\n",
       "      <th>P4-O2</th>\n",
       "      <th>P7-O1</th>\n",
       "      <th>P7-T7</th>\n",
       "      <th>P8-O2</th>\n",
       "      <th>T7-FT9</th>\n",
       "      <th>T7-P7</th>\n",
       "      <th>T8-P8-0</th>\n",
       "      <th>T8-P8-1</th>\n",
       "      <th>Outcome</th>\n",
       "    </tr>\n",
       "  </thead>\n",
       "  <tbody>\n",
       "    <tr>\n",
       "      <th>0</th>\n",
       "      <td>0.000020</td>\n",
       "      <td>0.000010</td>\n",
       "      <td>0.000022</td>\n",
       "      <td>0.000037</td>\n",
       "      <td>0.000032</td>\n",
       "      <td>0.000035</td>\n",
       "      <td>0.000016</td>\n",
       "      <td>0.000046</td>\n",
       "      <td>-0.000007</td>\n",
       "      <td>0.000043</td>\n",
       "      <td>...</td>\n",
       "      <td>0.000024</td>\n",
       "      <td>-0.000030</td>\n",
       "      <td>0.000010</td>\n",
       "      <td>-0.000011</td>\n",
       "      <td>-0.000037</td>\n",
       "      <td>0.000008</td>\n",
       "      <td>0.000012</td>\n",
       "      <td>0.000021</td>\n",
       "      <td>0.000021</td>\n",
       "      <td>0.0</td>\n",
       "    </tr>\n",
       "    <tr>\n",
       "      <th>1</th>\n",
       "      <td>0.000022</td>\n",
       "      <td>0.000008</td>\n",
       "      <td>0.000021</td>\n",
       "      <td>0.000039</td>\n",
       "      <td>0.000030</td>\n",
       "      <td>0.000032</td>\n",
       "      <td>0.000015</td>\n",
       "      <td>0.000039</td>\n",
       "      <td>-0.000006</td>\n",
       "      <td>0.000042</td>\n",
       "      <td>...</td>\n",
       "      <td>0.000026</td>\n",
       "      <td>-0.000017</td>\n",
       "      <td>0.000012</td>\n",
       "      <td>-0.000008</td>\n",
       "      <td>-0.000029</td>\n",
       "      <td>0.000010</td>\n",
       "      <td>0.000009</td>\n",
       "      <td>0.000023</td>\n",
       "      <td>0.000023</td>\n",
       "      <td>0.0</td>\n",
       "    </tr>\n",
       "    <tr>\n",
       "      <th>2</th>\n",
       "      <td>0.000021</td>\n",
       "      <td>0.000012</td>\n",
       "      <td>0.000021</td>\n",
       "      <td>0.000040</td>\n",
       "      <td>0.000025</td>\n",
       "      <td>0.000030</td>\n",
       "      <td>0.000013</td>\n",
       "      <td>0.000036</td>\n",
       "      <td>-0.000006</td>\n",
       "      <td>0.000040</td>\n",
       "      <td>...</td>\n",
       "      <td>0.000027</td>\n",
       "      <td>-0.000018</td>\n",
       "      <td>0.000014</td>\n",
       "      <td>-0.000009</td>\n",
       "      <td>-0.000034</td>\n",
       "      <td>0.000012</td>\n",
       "      <td>0.000009</td>\n",
       "      <td>0.000027</td>\n",
       "      <td>0.000027</td>\n",
       "      <td>0.0</td>\n",
       "    </tr>\n",
       "    <tr>\n",
       "      <th>3</th>\n",
       "      <td>0.000019</td>\n",
       "      <td>0.000012</td>\n",
       "      <td>0.000021</td>\n",
       "      <td>0.000039</td>\n",
       "      <td>0.000023</td>\n",
       "      <td>0.000028</td>\n",
       "      <td>0.000013</td>\n",
       "      <td>0.000035</td>\n",
       "      <td>-0.000008</td>\n",
       "      <td>0.000036</td>\n",
       "      <td>...</td>\n",
       "      <td>0.000030</td>\n",
       "      <td>-0.000024</td>\n",
       "      <td>0.000015</td>\n",
       "      <td>-0.000009</td>\n",
       "      <td>-0.000042</td>\n",
       "      <td>0.000009</td>\n",
       "      <td>0.000010</td>\n",
       "      <td>0.000033</td>\n",
       "      <td>0.000033</td>\n",
       "      <td>0.0</td>\n",
       "    </tr>\n",
       "    <tr>\n",
       "      <th>4</th>\n",
       "      <td>0.000019</td>\n",
       "      <td>0.000012</td>\n",
       "      <td>0.000021</td>\n",
       "      <td>0.000036</td>\n",
       "      <td>0.000023</td>\n",
       "      <td>0.000024</td>\n",
       "      <td>0.000012</td>\n",
       "      <td>0.000024</td>\n",
       "      <td>-0.000009</td>\n",
       "      <td>0.000032</td>\n",
       "      <td>...</td>\n",
       "      <td>0.000032</td>\n",
       "      <td>-0.000014</td>\n",
       "      <td>0.000017</td>\n",
       "      <td>-0.000008</td>\n",
       "      <td>-0.000031</td>\n",
       "      <td>0.000009</td>\n",
       "      <td>0.000008</td>\n",
       "      <td>0.000035</td>\n",
       "      <td>0.000035</td>\n",
       "      <td>0.0</td>\n",
       "    </tr>\n",
       "  </tbody>\n",
       "</table>\n",
       "<p>5 rows × 24 columns</p>\n",
       "</div>\n",
       "      <button class=\"colab-df-convert\" onclick=\"convertToInteractive('df-69e86b97-a1d7-4449-a873-5d8a003226a1')\"\n",
       "              title=\"Convert this dataframe to an interactive table.\"\n",
       "              style=\"display:none;\">\n",
       "        \n",
       "  <svg xmlns=\"http://www.w3.org/2000/svg\" height=\"24px\"viewBox=\"0 0 24 24\"\n",
       "       width=\"24px\">\n",
       "    <path d=\"M0 0h24v24H0V0z\" fill=\"none\"/>\n",
       "    <path d=\"M18.56 5.44l.94 2.06.94-2.06 2.06-.94-2.06-.94-.94-2.06-.94 2.06-2.06.94zm-11 1L8.5 8.5l.94-2.06 2.06-.94-2.06-.94L8.5 2.5l-.94 2.06-2.06.94zm10 10l.94 2.06.94-2.06 2.06-.94-2.06-.94-.94-2.06-.94 2.06-2.06.94z\"/><path d=\"M17.41 7.96l-1.37-1.37c-.4-.4-.92-.59-1.43-.59-.52 0-1.04.2-1.43.59L10.3 9.45l-7.72 7.72c-.78.78-.78 2.05 0 2.83L4 21.41c.39.39.9.59 1.41.59.51 0 1.02-.2 1.41-.59l7.78-7.78 2.81-2.81c.8-.78.8-2.07 0-2.86zM5.41 20L4 18.59l7.72-7.72 1.47 1.35L5.41 20z\"/>\n",
       "  </svg>\n",
       "      </button>\n",
       "      \n",
       "  <style>\n",
       "    .colab-df-container {\n",
       "      display:flex;\n",
       "      flex-wrap:wrap;\n",
       "      gap: 12px;\n",
       "    }\n",
       "\n",
       "    .colab-df-convert {\n",
       "      background-color: #E8F0FE;\n",
       "      border: none;\n",
       "      border-radius: 50%;\n",
       "      cursor: pointer;\n",
       "      display: none;\n",
       "      fill: #1967D2;\n",
       "      height: 32px;\n",
       "      padding: 0 0 0 0;\n",
       "      width: 32px;\n",
       "    }\n",
       "\n",
       "    .colab-df-convert:hover {\n",
       "      background-color: #E2EBFA;\n",
       "      box-shadow: 0px 1px 2px rgba(60, 64, 67, 0.3), 0px 1px 3px 1px rgba(60, 64, 67, 0.15);\n",
       "      fill: #174EA6;\n",
       "    }\n",
       "\n",
       "    [theme=dark] .colab-df-convert {\n",
       "      background-color: #3B4455;\n",
       "      fill: #D2E3FC;\n",
       "    }\n",
       "\n",
       "    [theme=dark] .colab-df-convert:hover {\n",
       "      background-color: #434B5C;\n",
       "      box-shadow: 0px 1px 3px 1px rgba(0, 0, 0, 0.15);\n",
       "      filter: drop-shadow(0px 1px 2px rgba(0, 0, 0, 0.3));\n",
       "      fill: #FFFFFF;\n",
       "    }\n",
       "  </style>\n",
       "\n",
       "      <script>\n",
       "        const buttonEl =\n",
       "          document.querySelector('#df-69e86b97-a1d7-4449-a873-5d8a003226a1 button.colab-df-convert');\n",
       "        buttonEl.style.display =\n",
       "          google.colab.kernel.accessAllowed ? 'block' : 'none';\n",
       "\n",
       "        async function convertToInteractive(key) {\n",
       "          const element = document.querySelector('#df-69e86b97-a1d7-4449-a873-5d8a003226a1');\n",
       "          const dataTable =\n",
       "            await google.colab.kernel.invokeFunction('convertToInteractive',\n",
       "                                                     [key], {});\n",
       "          if (!dataTable) return;\n",
       "\n",
       "          const docLinkHtml = 'Like what you see? Visit the ' +\n",
       "            '<a target=\"_blank\" href=https://colab.research.google.com/notebooks/data_table.ipynb>data table notebook</a>'\n",
       "            + ' to learn more about interactive tables.';\n",
       "          element.innerHTML = '';\n",
       "          dataTable['output_type'] = 'display_data';\n",
       "          await google.colab.output.renderOutput(dataTable, element);\n",
       "          const docLink = document.createElement('div');\n",
       "          docLink.innerHTML = docLinkHtml;\n",
       "          element.appendChild(docLink);\n",
       "        }\n",
       "      </script>\n",
       "    </div>\n",
       "  </div>\n",
       "  "
      ]
     },
     "metadata": {},
     "execution_count": 4
    }
   ],
   "source": [
    "data_df.head()"
   ]
  },
  {
   "cell_type": "code",
   "execution_count": 5,
   "metadata": {
    "colab": {
     "base_uri": "https://localhost:8080/"
    },
    "executionInfo": {
     "elapsed": 71,
     "status": "ok",
     "timestamp": 1668961554757,
     "user": {
      "displayName": "An Ni Wu",
      "userId": "11154020135232560694"
     },
     "user_tz": 300
    },
    "id": "wqwJoOBApszQ",
    "outputId": "c58b022d-ea7b-45e9-de91-3b3902bd00dd"
   },
   "outputs": [
    {
     "output_type": "execute_result",
     "data": {
      "text/plain": [
       "(2097150, 24)"
      ]
     },
     "metadata": {},
     "execution_count": 5
    }
   ],
   "source": [
    "data_df.shape"
   ]
  },
  {
   "cell_type": "code",
   "source": [
    "data_df[data_df['Outcome'] == 1].shape[0]/data_df.shape[0]"
   ],
   "metadata": {
    "colab": {
     "base_uri": "https://localhost:8080/"
    },
    "id": "1yYXtD0i3IpO",
    "executionInfo": {
     "status": "ok",
     "timestamp": 1668961621871,
     "user_tz": 300,
     "elapsed": 8,
     "user": {
      "displayName": "An Ni Wu",
      "userId": "11154020135232560694"
     }
    },
    "outputId": "46625095-4589-4ec5-931a-978bdf9f71a2"
   },
   "execution_count": 7,
   "outputs": [
    {
     "output_type": "execute_result",
     "data": {
      "text/plain": [
       "0.5"
      ]
     },
     "metadata": {},
     "execution_count": 7
    }
   ]
  },
  {
   "cell_type": "code",
   "source": [
    "data_df.info()"
   ],
   "metadata": {
    "colab": {
     "base_uri": "https://localhost:8080/"
    },
    "id": "tU4-ZlapjvUa",
    "executionInfo": {
     "status": "ok",
     "timestamp": 1668961554764,
     "user_tz": 300,
     "elapsed": 74,
     "user": {
      "displayName": "An Ni Wu",
      "userId": "11154020135232560694"
     }
    },
    "outputId": "eb32ab79-3c6b-47dd-9cd0-57664499c47c"
   },
   "execution_count": 6,
   "outputs": [
    {
     "output_type": "stream",
     "name": "stdout",
     "text": [
      "<class 'pandas.core.frame.DataFrame'>\n",
      "RangeIndex: 2097150 entries, 0 to 2097149\n",
      "Data columns (total 24 columns):\n",
      " #   Column    Dtype  \n",
      "---  ------    -----  \n",
      " 0   # FP1-F7  float64\n",
      " 1   C3-P3     float64\n",
      " 2   C4-P4     float64\n",
      " 3   CZ-PZ     float64\n",
      " 4   F3-C3     float64\n",
      " 5   F4-C4     float64\n",
      " 6   F7-T7     float64\n",
      " 7   F8-T8     float64\n",
      " 8   FP1-F3    float64\n",
      " 9   FP2-F4    float64\n",
      " 10  FP2-F8    float64\n",
      " 11  FT10-T8   float64\n",
      " 12  FT9-FT10  float64\n",
      " 13  FZ-CZ     float64\n",
      " 14  P3-O1     float64\n",
      " 15  P4-O2     float64\n",
      " 16  P7-O1     float64\n",
      " 17  P7-T7     float64\n",
      " 18  P8-O2     float64\n",
      " 19  T7-FT9    float64\n",
      " 20  T7-P7     float64\n",
      " 21  T8-P8-0   float64\n",
      " 22  T8-P8-1   float64\n",
      " 23  Outcome   float64\n",
      "dtypes: float64(24)\n",
      "memory usage: 384.0 MB\n"
     ]
    }
   ]
  },
  {
   "cell_type": "code",
   "source": [
    "data_df.shape[0]/(256*2)"
   ],
   "metadata": {
    "colab": {
     "base_uri": "https://localhost:8080/"
    },
    "id": "PRe7E3eYjPvM",
    "executionInfo": {
     "status": "ok",
     "timestamp": 1668962117432,
     "user_tz": 300,
     "elapsed": 475,
     "user": {
      "displayName": "An Ni Wu",
      "userId": "11154020135232560694"
     }
    },
    "outputId": "ef6e9bab-a341-4d22-f509-9e09392bfd0d"
   },
   "execution_count": 8,
   "outputs": [
    {
     "output_type": "execute_result",
     "data": {
      "text/plain": [
       "4095.99609375"
      ]
     },
     "metadata": {},
     "execution_count": 8
    }
   ]
  },
  {
   "cell_type": "code",
   "source": [
    "timepoints = list(data_df.index)"
   ],
   "metadata": {
    "id": "yF8HwZ0glSLe",
    "executionInfo": {
     "status": "ok",
     "timestamp": 1668962120908,
     "user_tz": 300,
     "elapsed": 4,
     "user": {
      "displayName": "An Ni Wu",
      "userId": "11154020135232560694"
     }
    }
   },
   "execution_count": 9,
   "outputs": []
  },
  {
   "cell_type": "code",
   "source": [
    "data_df.index"
   ],
   "metadata": {
    "colab": {
     "base_uri": "https://localhost:8080/"
    },
    "id": "pBMw-K2zlDRI",
    "executionInfo": {
     "status": "ok",
     "timestamp": 1668962123105,
     "user_tz": 300,
     "elapsed": 9,
     "user": {
      "displayName": "An Ni Wu",
      "userId": "11154020135232560694"
     }
    },
    "outputId": "542385bb-f513-4c47-c0cd-17b6f3708d5e"
   },
   "execution_count": 10,
   "outputs": [
    {
     "output_type": "execute_result",
     "data": {
      "text/plain": [
       "RangeIndex(start=0, stop=2097150, step=1)"
      ]
     },
     "metadata": {},
     "execution_count": 10
    }
   ]
  },
  {
   "cell_type": "code",
   "source": [
    "sec = 50\n",
    "plt.figure(figsize=(20, 10))\n",
    "sns.lineplot(data=data_df[:256*sec], x=timepoints[:256*sec], y=data_df.iloc[:256*sec,2])"
   ],
   "metadata": {
    "colab": {
     "base_uri": "https://localhost:8080/",
     "height": 611
    },
    "id": "2uwnLK1pj_Ub",
    "executionInfo": {
     "status": "ok",
     "timestamp": 1668962146421,
     "user_tz": 300,
     "elapsed": 1891,
     "user": {
      "displayName": "An Ni Wu",
      "userId": "11154020135232560694"
     }
    },
    "outputId": "21d76a16-97b7-466c-b05c-4f39523acab3"
   },
   "execution_count": 12,
   "outputs": [
    {
     "output_type": "execute_result",
     "data": {
      "text/plain": [
       "<matplotlib.axes._subplots.AxesSubplot at 0x7f26877ed2d0>"
      ]
     },
     "metadata": {},
     "execution_count": 12
    },
    {
     "output_type": "display_data",
     "data": {
      "text/plain": [
       "<Figure size 1440x720 with 1 Axes>"
      ],
      "image/png": "[encoded data removed]"
     },
     "metadata": {}
    }
   ]
  },
  {
   "cell_type": "code",
   "execution_count": 13,
   "metadata": {
    "id": "THdpvB7yVXWs",
    "executionInfo": {
     "status": "ok",
     "timestamp": 1668962155135,
     "user_tz": 300,
     "elapsed": 793,
     "user": {
      "displayName": "An Ni Wu",
      "userId": "11154020135232560694"
     }
    }
   },
   "outputs": [],
   "source": [
    "df1 = data_df.sample(frac=1, random_state=666).reset_index(drop=True)"
   ]
  },
  {
   "cell_type": "code",
   "execution_count": 14,
   "metadata": {
    "colab": {
     "base_uri": "https://localhost:8080/"
    },
    "executionInfo": {
     "elapsed": 408,
     "status": "ok",
     "timestamp": 1668962186671,
     "user": {
      "displayName": "An Ni Wu",
      "userId": "11154020135232560694"
     },
     "user_tz": 300
    },
    "id": "RrgvManppxed",
    "outputId": "26e6a8e8-7214-4716-cf5a-f8216a740959"
   },
   "outputs": [
    {
     "output_type": "execute_result",
     "data": {
      "text/plain": [
       "(1048575, 24)"
      ]
     },
     "metadata": {},
     "execution_count": 14
    }
   ],
   "source": [
    "df1[df1['Outcome'] == 0].shape"
   ]
  },
  {
   "cell_type": "code",
   "execution_count": 15,
   "metadata": {
    "colab": {
     "base_uri": "https://localhost:8080/"
    },
    "executionInfo": {
     "elapsed": 420,
     "status": "ok",
     "timestamp": 1668962189252,
     "user": {
      "displayName": "An Ni Wu",
      "userId": "11154020135232560694"
     },
     "user_tz": 300
    },
    "id": "UwCll0D3p4Zf",
    "outputId": "0ca6466e-dded-4110-dc28-f8ef977d0a99"
   },
   "outputs": [
    {
     "output_type": "execute_result",
     "data": {
      "text/plain": [
       "(1048575, 24)"
      ]
     },
     "metadata": {},
     "execution_count": 15
    }
   ],
   "source": [
    "df1[df1['Outcome'] == 1].shape"
   ]
  },
  {
   "cell_type": "code",
   "execution_count": 16,
   "metadata": {
    "id": "azyuPw6ErlTv",
    "executionInfo": {
     "status": "ok",
     "timestamp": 1668962201967,
     "user_tz": 300,
     "elapsed": 490,
     "user": {
      "displayName": "An Ni Wu",
      "userId": "11154020135232560694"
     }
    }
   },
   "outputs": [],
   "source": [
    "y = df1['Outcome']\n",
    "X = df1.drop(['Outcome'], axis=1)"
   ]
  },
  {
   "cell_type": "code",
   "execution_count": null,
   "metadata": {
    "colab": {
     "base_uri": "https://localhost:8080/",
     "height": 1000
    },
    "executionInfo": {
     "elapsed": 6478,
     "status": "ok",
     "timestamp": 1667610858684,
     "user": {
      "displayName": "An Ni Wu",
      "userId": "11154020135232560694"
     },
     "user_tz": 240
    },
    "id": "M8CIA6Iktl5p",
    "outputId": "e311feac-312c-457f-8ff1-6a0a2865a09b"
   },
   "outputs": [
    {
     "data": {
      "image/png": "[encoded data removed]",
      "text/plain": [
       "<Figure size 864x3456 with 21 Axes>"
      ]
     },
     "metadata": {},
     "output_type": "display_data"
    }
   ],
   "source": [
    "import matplotlib.pyplot as plt\n",
    "# Visualize data distribution for each channel\n",
    "\n",
    "fig, axes = plt.subplots(len(X.columns)//3, 3, figsize=(12, 48))\n",
    "\n",
    "i = 0\n",
    "for triaxis in axes:\n",
    "    for axis in triaxis:\n",
    "        X.hist(column = X.columns[i], bins = 100, ax=axis)\n",
    "        i = i+1"
   ]
  },
  {
   "cell_type": "code",
   "execution_count": 17,
   "metadata": {
    "id": "GbXJZvYCrJoX",
    "executionInfo": {
     "status": "ok",
     "timestamp": 1668962244118,
     "user_tz": 300,
     "elapsed": 358,
     "user": {
      "displayName": "An Ni Wu",
      "userId": "11154020135232560694"
     }
    }
   },
   "outputs": [],
   "source": [
    "from sklearn.model_selection import train_test_split"
   ]
  },
  {
   "cell_type": "code",
   "execution_count": 21,
   "metadata": {
    "id": "WO4dgjGCrKGS",
    "executionInfo": {
     "status": "ok",
     "timestamp": 1668962285404,
     "user_tz": 300,
     "elapsed": 934,
     "user": {
      "displayName": "An Ni Wu",
      "userId": "11154020135232560694"
     }
    }
   },
   "outputs": [],
   "source": [
    "X_train, X_val_test, y_train, y_val_test = train_test_split(X,y,test_size=0.2, stratify=y, random_state=666)"
   ]
  },
  {
   "cell_type": "code",
   "source": [
    "X_val, X_test, y_val, y_test = train_test_split(X_val_test,y_val_test,test_size=0.5, stratify=y_val_test, random_state=666)"
   ],
   "metadata": {
    "id": "r_Yc2p0N5xrF",
    "executionInfo": {
     "status": "ok",
     "timestamp": 1668962339766,
     "user_tz": 300,
     "elapsed": 799,
     "user": {
      "displayName": "An Ni Wu",
      "userId": "11154020135232560694"
     }
    }
   },
   "execution_count": 22,
   "outputs": []
  },
  {
   "cell_type": "code",
   "execution_count": 33,
   "metadata": {
    "colab": {
     "base_uri": "https://localhost:8080/"
    },
    "executionInfo": {
     "elapsed": 7,
     "status": "ok",
     "timestamp": 1668962791915,
     "user": {
      "displayName": "An Ni Wu",
      "userId": "11154020135232560694"
     },
     "user_tz": 300
    },
    "id": "NukH4f3yW78U",
    "outputId": "a75de053-8379-4b3e-c7c5-5e3428e89092"
   },
   "outputs": [
    {
     "output_type": "execute_result",
     "data": {
      "text/plain": [
       "((1677720, 23), (209715, 23), (209715, 23))"
      ]
     },
     "metadata": {},
     "execution_count": 33
    }
   ],
   "source": [
    "X_train.shape, X_val.shape, X_test.shape"
   ]
  },
  {
   "cell_type": "markdown",
   "source": [
    "# **Feature Selection**"
   ],
   "metadata": {
    "id": "bfnfaOAWFPcz"
   }
  },
  {
   "cell_type": "code",
   "source": [
    "# 1. PCA\n",
    "from sklearn.decomposition import PCA\n",
    "\n",
    "n_components = 12\n",
    "pca = PCA(n_components=n_components)\n",
    "pca.fit(X_train)\n",
    "\n",
    "X_train_PCA = pca.transform(X_train)\n",
    "X_val_PCA = pca.transform(X_val)\n",
    "\n",
    "X_train_PCA = pd.DataFrame(data = X_train_PCA, columns = [f'PC{i}' for i in range(1, n_components+1)])\n",
    "X_val_PCA = pd.DataFrame(data = X_val_PCA, columns = [f'PC{i}' for i in range(1, n_components+1)])\n",
    "cev = np.cumsum(pca.explained_variance_ratio_)\n",
    "cev = np.insert(cev, 0, 0)\n",
    "print(f'Cumulative explained variance with {n_components} components: {cev[-1]}')\n",
    "plt.figure(figsize=(15,10))\n",
    "plt.ylim(0.0,1.1)\n",
    "plt.plot(cev, linewidth=3)\n",
    "plt.xlabel('number of components', fontsize=21)\n",
    "plt.ylabel('cumulative explained variance', fontsize=21)\n",
    "plt.title('Scree Plot using PCA', fontsize=24)\n",
    "plt.rc('font', size=16)\n",
    "plt.grid()\n",
    "plt.show()"
   ],
   "metadata": {
    "colab": {
     "base_uri": "https://localhost:8080/",
     "height": 660
    },
    "id": "biRGBtmE6Poo",
    "executionInfo": {
     "status": "ok",
     "timestamp": 1668964536945,
     "user_tz": 300,
     "elapsed": 8377,
     "user": {
      "displayName": "An Ni Wu",
      "userId": "11154020135232560694"
     }
    },
    "outputId": "b0aa3e19-ba33-43d9-bfed-a49e7b8dceca"
   },
   "execution_count": 43,
   "outputs": [
    {
     "output_type": "stream",
     "name": "stdout",
     "text": [
      "Cumulative explained variance with 12 components: 0.9009325129862863\n"
     ]
    },
    {
     "output_type": "display_data",
     "data": {
      "text/plain": [
       "<Figure size 1080x720 with 1 Axes>"
      ],
      "image/png": "[encoded data removed]"
     },
     "metadata": {}
    }
   ]
  },
  {
   "cell_type": "code",
   "source": [
    "X_train_PCA"
   ],
   "metadata": {
    "colab": {
     "base_uri": "https://localhost:8080/",
     "height": 424
    },
    "id": "1Qo61MeB7tel",
    "executionInfo": {
     "status": "ok",
     "timestamp": 1668964543771,
     "user_tz": 300,
     "elapsed": 345,
     "user": {
      "displayName": "An Ni Wu",
      "userId": "11154020135232560694"
     }
    },
    "outputId": "09fd7329-7d58-4e5a-a253-90307bb0f7b8"
   },
   "execution_count": 44,
   "outputs": [
    {
     "output_type": "execute_result",
     "data": {
      "text/plain": [
       "              PC1       PC2       PC3       PC4       PC5       PC6       PC7  \\\n",
       "0       -0.000021 -0.000035  0.000005  0.000055  0.000013  0.000003 -0.000016   \n",
       "1       -0.000135 -0.000052  0.000055  0.000029 -0.000066  0.000016 -0.000131   \n",
       "2       -0.000045 -0.000091  0.000167  0.000031  0.000005  0.000002 -0.000186   \n",
       "3       -0.000272  0.000111 -0.000289 -0.000443  0.000002  0.000012 -0.000454   \n",
       "4       -0.000538  0.000033  0.000354  0.000096  0.000188 -0.000002 -0.000033   \n",
       "...           ...       ...       ...       ...       ...       ...       ...   \n",
       "1677715 -0.000015  0.000213  0.000003  0.000057 -0.000129 -0.000017 -0.000024   \n",
       "1677716 -0.000019  0.000150  0.000097  0.000119  0.000023 -0.000009 -0.000143   \n",
       "1677717  0.000057  0.000152  0.000282 -0.000127 -0.000121  0.000080  0.000131   \n",
       "1677718 -0.000182 -0.000193 -0.000065  0.000068 -0.000053  0.000135 -0.000014   \n",
       "1677719 -0.000091 -0.000097 -0.000236  0.000011  0.000095 -0.000049  0.000003   \n",
       "\n",
       "              PC8       PC9      PC10      PC11      PC12  \n",
       "0        0.000007 -0.000001  0.000007  0.000027 -0.000019  \n",
       "1        0.000040  0.000029 -0.000079  0.000002 -0.000011  \n",
       "2        0.000068  0.000035 -0.000006 -0.000042 -0.000024  \n",
       "3       -0.000399 -0.000032  0.000544  0.000365  0.000258  \n",
       "4        0.000120  0.000131 -0.000059 -0.000025 -0.000032  \n",
       "...           ...       ...       ...       ...       ...  \n",
       "1677715 -0.000061  0.000077  0.000111  0.000035 -0.000033  \n",
       "1677716  0.000044 -0.000022  0.000011 -0.000006  0.000006  \n",
       "1677717 -0.000202  0.000027  0.000005  0.000010  0.000060  \n",
       "1677718  0.000089 -0.000028  0.000038 -0.000055 -0.000040  \n",
       "1677719  0.000003  0.000009 -0.000037  0.000013  0.000014  \n",
       "\n",
       "[1677720 rows x 12 columns]"
      ],
      "text/html": [
       "\n",
       "  <div id=\"df-1e7249f6-e4ce-4c70-b8ad-d4c14cc6c0da\">\n",
       "    <div class=\"colab-df-container\">\n",
       "      <div>\n",
       "<style scoped>\n",
       "    .dataframe tbody tr th:only-of-type {\n",
       "        vertical-align: middle;\n",
       "    }\n",
       "\n",
       "    .dataframe tbody tr th {\n",
       "        vertical-align: top;\n",
       "    }\n",
       "\n",
       "    .dataframe thead th {\n",
       "        text-align: right;\n",
       "    }\n",
       "</style>\n",
       "<table border=\"1\" class=\"dataframe\">\n",
       "  <thead>\n",
       "    <tr style=\"text-align: right;\">\n",
       "      <th></th>\n",
       "      <th>PC1</th>\n",
       "      <th>PC2</th>\n",
       "      <th>PC3</th>\n",
       "      <th>PC4</th>\n",
       "      <th>PC5</th>\n",
       "      <th>PC6</th>\n",
       "      <th>PC7</th>\n",
       "      <th>PC8</th>\n",
       "      <th>PC9</th>\n",
       "      <th>PC10</th>\n",
       "      <th>PC11</th>\n",
       "      <th>PC12</th>\n",
       "    </tr>\n",
       "  </thead>\n",
       "  <tbody>\n",
       "    <tr>\n",
       "      <th>0</th>\n",
       "      <td>-0.000021</td>\n",
       "      <td>-0.000035</td>\n",
       "      <td>0.000005</td>\n",
       "      <td>0.000055</td>\n",
       "      <td>0.000013</td>\n",
       "      <td>0.000003</td>\n",
       "      <td>-0.000016</td>\n",
       "      <td>0.000007</td>\n",
       "      <td>-0.000001</td>\n",
       "      <td>0.000007</td>\n",
       "      <td>0.000027</td>\n",
       "      <td>-0.000019</td>\n",
       "    </tr>\n",
       "    <tr>\n",
       "      <th>1</th>\n",
       "      <td>-0.000135</td>\n",
       "      <td>-0.000052</td>\n",
       "      <td>0.000055</td>\n",
       "      <td>0.000029</td>\n",
       "      <td>-0.000066</td>\n",
       "      <td>0.000016</td>\n",
       "      <td>-0.000131</td>\n",
       "      <td>0.000040</td>\n",
       "      <td>0.000029</td>\n",
       "      <td>-0.000079</td>\n",
       "      <td>0.000002</td>\n",
       "      <td>-0.000011</td>\n",
       "    </tr>\n",
       "    <tr>\n",
       "      <th>2</th>\n",
       "      <td>-0.000045</td>\n",
       "      <td>-0.000091</td>\n",
       "      <td>0.000167</td>\n",
       "      <td>0.000031</td>\n",
       "      <td>0.000005</td>\n",
       "      <td>0.000002</td>\n",
       "      <td>-0.000186</td>\n",
       "      <td>0.000068</td>\n",
       "      <td>0.000035</td>\n",
       "      <td>-0.000006</td>\n",
       "      <td>-0.000042</td>\n",
       "      <td>-0.000024</td>\n",
       "    </tr>\n",
       "    <tr>\n",
       "      <th>3</th>\n",
       "      <td>-0.000272</td>\n",
       "      <td>0.000111</td>\n",
       "      <td>-0.000289</td>\n",
       "      <td>-0.000443</td>\n",
       "      <td>0.000002</td>\n",
       "      <td>0.000012</td>\n",
       "      <td>-0.000454</td>\n",
       "      <td>-0.000399</td>\n",
       "      <td>-0.000032</td>\n",
       "      <td>0.000544</td>\n",
       "      <td>0.000365</td>\n",
       "      <td>0.000258</td>\n",
       "    </tr>\n",
       "    <tr>\n",
       "      <th>4</th>\n",
       "      <td>-0.000538</td>\n",
       "      <td>0.000033</td>\n",
       "      <td>0.000354</td>\n",
       "      <td>0.000096</td>\n",
       "      <td>0.000188</td>\n",
       "      <td>-0.000002</td>\n",
       "      <td>-0.000033</td>\n",
       "      <td>0.000120</td>\n",
       "      <td>0.000131</td>\n",
       "      <td>-0.000059</td>\n",
       "      <td>-0.000025</td>\n",
       "      <td>-0.000032</td>\n",
       "    </tr>\n",
       "    <tr>\n",
       "      <th>...</th>\n",
       "      <td>...</td>\n",
       "      <td>...</td>\n",
       "      <td>...</td>\n",
       "      <td>...</td>\n",
       "      <td>...</td>\n",
       "      <td>...</td>\n",
       "      <td>...</td>\n",
       "      <td>...</td>\n",
       "      <td>...</td>\n",
       "      <td>...</td>\n",
       "      <td>...</td>\n",
       "      <td>...</td>\n",
       "    </tr>\n",
       "    <tr>\n",
       "      <th>1677715</th>\n",
       "      <td>-0.000015</td>\n",
       "      <td>0.000213</td>\n",
       "      <td>0.000003</td>\n",
       "      <td>0.000057</td>\n",
       "      <td>-0.000129</td>\n",
       "      <td>-0.000017</td>\n",
       "      <td>-0.000024</td>\n",
       "      <td>-0.000061</td>\n",
       "      <td>0.000077</td>\n",
       "      <td>0.000111</td>\n",
       "      <td>0.000035</td>\n",
       "      <td>-0.000033</td>\n",
       "    </tr>\n",
       "    <tr>\n",
       "      <th>1677716</th>\n",
       "      <td>-0.000019</td>\n",
       "      <td>0.000150</td>\n",
       "      <td>0.000097</td>\n",
       "      <td>0.000119</td>\n",
       "      <td>0.000023</td>\n",
       "      <td>-0.000009</td>\n",
       "      <td>-0.000143</td>\n",
       "      <td>0.000044</td>\n",
       "      <td>-0.000022</td>\n",
       "      <td>0.000011</td>\n",
       "      <td>-0.000006</td>\n",
       "      <td>0.000006</td>\n",
       "    </tr>\n",
       "    <tr>\n",
       "      <th>1677717</th>\n",
       "      <td>0.000057</td>\n",
       "      <td>0.000152</td>\n",
       "      <td>0.000282</td>\n",
       "      <td>-0.000127</td>\n",
       "      <td>-0.000121</td>\n",
       "      <td>0.000080</td>\n",
       "      <td>0.000131</td>\n",
       "      <td>-0.000202</td>\n",
       "      <td>0.000027</td>\n",
       "      <td>0.000005</td>\n",
       "      <td>0.000010</td>\n",
       "      <td>0.000060</td>\n",
       "    </tr>\n",
       "    <tr>\n",
       "      <th>1677718</th>\n",
       "      <td>-0.000182</td>\n",
       "      <td>-0.000193</td>\n",
       "      <td>-0.000065</td>\n",
       "      <td>0.000068</td>\n",
       "      <td>-0.000053</td>\n",
       "      <td>0.000135</td>\n",
       "      <td>-0.000014</td>\n",
       "      <td>0.000089</td>\n",
       "      <td>-0.000028</td>\n",
       "      <td>0.000038</td>\n",
       "      <td>-0.000055</td>\n",
       "      <td>-0.000040</td>\n",
       "    </tr>\n",
       "    <tr>\n",
       "      <th>1677719</th>\n",
       "      <td>-0.000091</td>\n",
       "      <td>-0.000097</td>\n",
       "      <td>-0.000236</td>\n",
       "      <td>0.000011</td>\n",
       "      <td>0.000095</td>\n",
       "      <td>-0.000049</td>\n",
       "      <td>0.000003</td>\n",
       "      <td>0.000003</td>\n",
       "      <td>0.000009</td>\n",
       "      <td>-0.000037</td>\n",
       "      <td>0.000013</td>\n",
       "      <td>0.000014</td>\n",
       "    </tr>\n",
       "  </tbody>\n",
       "</table>\n",
       "<p>1677720 rows × 12 columns</p>\n",
       "</div>\n",
       "      <button class=\"colab-df-convert\" onclick=\"convertToInteractive('df-1e7249f6-e4ce-4c70-b8ad-d4c14cc6c0da')\"\n",
       "              title=\"Convert this dataframe to an interactive table.\"\n",
       "              style=\"display:none;\">\n",
       "        \n",
       "  <svg xmlns=\"http://www.w3.org/2000/svg\" height=\"24px\"viewBox=\"0 0 24 24\"\n",
       "       width=\"24px\">\n",
       "    <path d=\"M0 0h24v24H0V0z\" fill=\"none\"/>\n",
       "    <path d=\"M18.56 5.44l.94 2.06.94-2.06 2.06-.94-2.06-.94-.94-2.06-.94 2.06-2.06.94zm-11 1L8.5 8.5l.94-2.06 2.06-.94-2.06-.94L8.5 2.5l-.94 2.06-2.06.94zm10 10l.94 2.06.94-2.06 2.06-.94-2.06-.94-.94-2.06-.94 2.06-2.06.94z\"/><path d=\"M17.41 7.96l-1.37-1.37c-.4-.4-.92-.59-1.43-.59-.52 0-1.04.2-1.43.59L10.3 9.45l-7.72 7.72c-.78.78-.78 2.05 0 2.83L4 21.41c.39.39.9.59 1.41.59.51 0 1.02-.2 1.41-.59l7.78-7.78 2.81-2.81c.8-.78.8-2.07 0-2.86zM5.41 20L4 18.59l7.72-7.72 1.47 1.35L5.41 20z\"/>\n",
       "  </svg>\n",
       "      </button>\n",
       "      \n",
       "  <style>\n",
       "    .colab-df-container {\n",
       "      display:flex;\n",
       "      flex-wrap:wrap;\n",
       "      gap: 12px;\n",
       "    }\n",
       "\n",
       "    .colab-df-convert {\n",
       "      background-color: #E8F0FE;\n",
       "      border: none;\n",
       "      border-radius: 50%;\n",
       "      cursor: pointer;\n",
       "      display: none;\n",
       "      fill: #1967D2;\n",
       "      height: 32px;\n",
       "      padding: 0 0 0 0;\n",
       "      width: 32px;\n",
       "    }\n",
       "\n",
       "    .colab-df-convert:hover {\n",
       "      background-color: #E2EBFA;\n",
       "      box-shadow: 0px 1px 2px rgba(60, 64, 67, 0.3), 0px 1px 3px 1px rgba(60, 64, 67, 0.15);\n",
       "      fill: #174EA6;\n",
       "    }\n",
       "\n",
       "    [theme=dark] .colab-df-convert {\n",
       "      background-color: #3B4455;\n",
       "      fill: #D2E3FC;\n",
       "    }\n",
       "\n",
       "    [theme=dark] .colab-df-convert:hover {\n",
       "      background-color: #434B5C;\n",
       "      box-shadow: 0px 1px 3px 1px rgba(0, 0, 0, 0.15);\n",
       "      filter: drop-shadow(0px 1px 2px rgba(0, 0, 0, 0.3));\n",
       "      fill: #FFFFFF;\n",
       "    }\n",
       "  </style>\n",
       "\n",
       "      <script>\n",
       "        const buttonEl =\n",
       "          document.querySelector('#df-1e7249f6-e4ce-4c70-b8ad-d4c14cc6c0da button.colab-df-convert');\n",
       "        buttonEl.style.display =\n",
       "          google.colab.kernel.accessAllowed ? 'block' : 'none';\n",
       "\n",
       "        async function convertToInteractive(key) {\n",
       "          const element = document.querySelector('#df-1e7249f6-e4ce-4c70-b8ad-d4c14cc6c0da');\n",
       "          const dataTable =\n",
       "            await google.colab.kernel.invokeFunction('convertToInteractive',\n",
       "                                                     [key], {});\n",
       "          if (!dataTable) return;\n",
       "\n",
       "          const docLinkHtml = 'Like what you see? Visit the ' +\n",
       "            '<a target=\"_blank\" href=https://colab.research.google.com/notebooks/data_table.ipynb>data table notebook</a>'\n",
       "            + ' to learn more about interactive tables.';\n",
       "          element.innerHTML = '';\n",
       "          dataTable['output_type'] = 'display_data';\n",
       "          await google.colab.output.renderOutput(dataTable, element);\n",
       "          const docLink = document.createElement('div');\n",
       "          docLink.innerHTML = docLinkHtml;\n",
       "          element.appendChild(docLink);\n",
       "        }\n",
       "      </script>\n",
       "    </div>\n",
       "  </div>\n",
       "  "
      ]
     },
     "metadata": {},
     "execution_count": 44
    }
   ]
  },
  {
   "cell_type": "code",
   "execution_count": null,
   "metadata": {
    "id": "UTMY81wAsZEC"
   },
   "outputs": [],
   "source": [
    "from sklearn.svm import SVC\n",
    "clf = SVC(verbose=1)"
   ]
  },
  {
   "cell_type": "code",
   "execution_count": null,
   "metadata": {
    "colab": {
     "base_uri": "https://localhost:8080/"
    },
    "executionInfo": {
     "elapsed": 1115149,
     "status": "ok",
     "timestamp": 1667613019238,
     "user": {
      "displayName": "An Ni Wu",
      "userId": "11154020135232560694"
     },
     "user_tz": 240
    },
    "id": "KCLVfY4HsjWC",
    "outputId": "e1519b87-f3b7-4650-f7ac-8e5794e7b0bb"
   },
   "outputs": [
    {
     "name": "stdout",
     "output_type": "stream",
     "text": [
      "[LibSVM]"
     ]
    },
    {
     "data": {
      "text/plain": [
       "SVC(verbose=1)"
      ]
     },
     "execution_count": 34,
     "metadata": {},
     "output_type": "execute_result"
    }
   ],
   "source": [
    "clf.fit(X_train, y_train)"
   ]
  },
  {
   "cell_type": "code",
   "execution_count": null,
   "metadata": {
    "colab": {
     "base_uri": "https://localhost:8080/"
    },
    "executionInfo": {
     "elapsed": 227100,
     "status": "ok",
     "timestamp": 1667613281310,
     "user": {
      "displayName": "An Ni Wu",
      "userId": "11154020135232560694"
     },
     "user_tz": 240
    },
    "id": "lP-UqnMQsnvT",
    "outputId": "34827947-9592-41cc-fafe-2200e07a95e2"
   },
   "outputs": [
    {
     "data": {
      "text/plain": [
       "0.8310325918508452"
      ]
     },
     "execution_count": 35,
     "metadata": {},
     "output_type": "execute_result"
    }
   ],
   "source": [
    "clf.score(X_test, y_test)"
   ]
  },
  {
   "cell_type": "code",
   "execution_count": null,
   "metadata": {
    "id": "52KWkKUke9Bg"
   },
   "outputs": [],
   "source": [
    "import xgboost as xgb"
   ]
  },
  {
   "cell_type": "code",
   "execution_count": null,
   "metadata": {
    "id": "UYUe3OIFivMq"
   },
   "outputs": [],
   "source": [
    "clf2 = xgb.XGBClassifier()"
   ]
  },
  {
   "cell_type": "code",
   "execution_count": null,
   "metadata": {
    "colab": {
     "base_uri": "https://localhost:8080/"
    },
    "executionInfo": {
     "elapsed": 16284,
     "status": "ok",
     "timestamp": 1667614147811,
     "user": {
      "displayName": "An Ni Wu",
      "userId": "11154020135232560694"
     },
     "user_tz": 240
    },
    "id": "pdPZIeCFi_R-",
    "outputId": "bda4a826-4217-4fa6-9392-1f744b2e9de4"
   },
   "outputs": [
    {
     "data": {
      "text/plain": [
       "XGBClassifier()"
      ]
     },
     "execution_count": 38,
     "metadata": {},
     "output_type": "execute_result"
    }
   ],
   "source": [
    "clf2.fit(X_train, y_train)"
   ]
  },
  {
   "cell_type": "code",
   "execution_count": null,
   "metadata": {
    "colab": {
     "base_uri": "https://localhost:8080/"
    },
    "executionInfo": {
     "elapsed": 204,
     "status": "ok",
     "timestamp": 1667614425548,
     "user": {
      "displayName": "An Ni Wu",
      "userId": "11154020135232560694"
     },
     "user_tz": 240
    },
    "id": "y-f_eF9ljMbd",
    "outputId": "4e11724e-f25d-4963-c6bf-05b904f2ef6e"
   },
   "outputs": [
    {
     "data": {
      "text/plain": [
       "0.8028514889254464"
      ]
     },
     "execution_count": 41,
     "metadata": {},
     "output_type": "execute_result"
    }
   ],
   "source": [
    "clf2.score(X_test, y_test)"
   ]
  },
  {
   "cell_type": "markdown",
   "source": [
    "# **MLP**"
   ],
   "metadata": {
    "id": "nv9LFexsCuvj"
   }
  },
  {
   "cell_type": "code",
   "source": [
    "from tensorflow.keras import Input, Model, models, layers, losses, metrics, optimizers, callbacks"
   ],
   "metadata": {
    "id": "ymIBjiRYBbCV",
    "executionInfo": {
     "status": "ok",
     "timestamp": 1668964548970,
     "user_tz": 300,
     "elapsed": 3,
     "user": {
      "displayName": "An Ni Wu",
      "userId": "11154020135232560694"
     }
    }
   },
   "execution_count": 45,
   "outputs": []
  },
  {
   "cell_type": "code",
   "source": [
    "# baseline model\n",
    "def create_baseline():\n",
    "\t# create model\n",
    "  x = Input(shape=(12,))\n",
    "  l1 = layers.Dense(32, activation='relu')(x)\n",
    "  l2 = layers.Dense(64, activation='relu')(l1)\n",
    "  l3 = layers.Dense(32, activation='relu')(l2)\n",
    "  l4 = layers.Dense(12, activation='relu')(l3) \n",
    "  logits = layers.Dense(1, activation='sigmoid')(l4)\n",
    "  \n",
    "  model = Model(inputs=x, outputs=logits)\n",
    "  model.compile(optimizer='adam', loss='binary_crossentropy', metrics=['acc'])\n",
    "  \n",
    "  return model\n",
    "\n",
    "model = create_baseline()"
   ],
   "metadata": {
    "id": "Ke3Wl_rmBfWE",
    "executionInfo": {
     "status": "ok",
     "timestamp": 1668964627040,
     "user_tz": 300,
     "elapsed": 12,
     "user": {
      "displayName": "An Ni Wu",
      "userId": "11154020135232560694"
     }
    }
   },
   "execution_count": 50,
   "outputs": []
  },
  {
   "cell_type": "code",
   "source": [
    "model.summary()"
   ],
   "metadata": {
    "colab": {
     "base_uri": "https://localhost:8080/"
    },
    "id": "jyQxHkJBCQtc",
    "executionInfo": {
     "status": "ok",
     "timestamp": 1668964557299,
     "user_tz": 300,
     "elapsed": 29,
     "user": {
      "displayName": "An Ni Wu",
      "userId": "11154020135232560694"
     }
    },
    "outputId": "5696eac5-4ecd-470e-c723-914bfbbacfe6"
   },
   "execution_count": 47,
   "outputs": [
    {
     "output_type": "stream",
     "name": "stdout",
     "text": [
      "Model: \"model_2\"\n",
      "_________________________________________________________________\n",
      " Layer (type)                Output Shape              Param #   \n",
      "=================================================================\n",
      " input_3 (InputLayer)        [(None, 12)]              0         \n",
      "                                                                 \n",
      " dense_10 (Dense)            (None, 32)                416       \n",
      "                                                                 \n",
      " dense_11 (Dense)            (None, 64)                2112      \n",
      "                                                                 \n",
      " dense_12 (Dense)            (None, 32)                2080      \n",
      "                                                                 \n",
      " dense_13 (Dense)            (None, 14)                462       \n",
      "                                                                 \n",
      " dense_14 (Dense)            (None, 1)                 15        \n",
      "                                                                 \n",
      "=================================================================\n",
      "Total params: 5,085\n",
      "Trainable params: 5,085\n",
      "Non-trainable params: 0\n",
      "_________________________________________________________________\n"
     ]
    }
   ]
  },
  {
   "cell_type": "code",
   "source": [
    "callbacks_list = [callbacks.EarlyStopping(monitor='val_loss', mode='min', verbose=1, patience=10, restore_best_weights=True,), \n",
    "                  callbacks.ModelCheckpoint(filepath='/content/drive/MyDrive/MLP_EEG.h5', monitor='val_loss', mode='min', save_best_only=True,),\n",
    "                  ]"
   ],
   "metadata": {
    "id": "I8c6y5JbBl1V",
    "executionInfo": {
     "status": "ok",
     "timestamp": 1668964566385,
     "user_tz": 300,
     "elapsed": 474,
     "user": {
      "displayName": "An Ni Wu",
      "userId": "11154020135232560694"
     }
    }
   },
   "execution_count": 48,
   "outputs": []
  },
  {
   "cell_type": "code",
   "source": [
    "history = model.fit(x=X_train_PCA, y=y_train, validation_data=(X_val_PCA, y_val), batch_size=64, epochs=100, verbose=1, callbacks=callbacks_list)"
   ],
   "metadata": {
    "colab": {
     "base_uri": "https://localhost:8080/",
     "height": 346
    },
    "id": "dK8vvhRvBppK",
    "executionInfo": {
     "status": "error",
     "timestamp": 1668964603326,
     "user_tz": 300,
     "elapsed": 32871,
     "user": {
      "displayName": "An Ni Wu",
      "userId": "11154020135232560694"
     }
    },
    "outputId": "c16544ed-c8b4-4892-afa2-551c836ff819"
   },
   "execution_count": 49,
   "outputs": [
    {
     "output_type": "stream",
     "name": "stdout",
     "text": [
      "Epoch 1/100\n",
      " 9678/26215 [==========>...................] - ETA: 49s - loss: 0.6932 - acc: 0.4994"
     ]
    },
    {
     "output_type": "error",
     "ename": "KeyboardInterrupt",
     "evalue": "ignored",
     "traceback": [
      "\u001B[0;31m---------------------------------------------------------------------------\u001B[0m",
      "\u001B[0;31mKeyboardInterrupt\u001B[0m                         Traceback (most recent call last)",
      "\u001B[0;32m<ipython-input-49-eeb45c2ab77a>\u001B[0m in \u001B[0;36m<module>\u001B[0;34m\u001B[0m\n\u001B[0;32m----> 1\u001B[0;31m \u001B[0mhistory\u001B[0m \u001B[0;34m=\u001B[0m \u001B[0mmodel\u001B[0m\u001B[0;34m.\u001B[0m\u001B[0mfit\u001B[0m\u001B[0;34m(\u001B[0m\u001B[0mx\u001B[0m\u001B[0;34m=\u001B[0m\u001B[0mX_train_PCA\u001B[0m\u001B[0;34m,\u001B[0m \u001B[0my\u001B[0m\u001B[0;34m=\u001B[0m\u001B[0my_train\u001B[0m\u001B[0;34m,\u001B[0m \u001B[0mvalidation_data\u001B[0m\u001B[0;34m=\u001B[0m\u001B[0;34m(\u001B[0m\u001B[0mX_val_PCA\u001B[0m\u001B[0;34m,\u001B[0m \u001B[0my_val\u001B[0m\u001B[0;34m)\u001B[0m\u001B[0;34m,\u001B[0m \u001B[0mbatch_size\u001B[0m\u001B[0;34m=\u001B[0m\u001B[0;36m64\u001B[0m\u001B[0;34m,\u001B[0m \u001B[0mepochs\u001B[0m\u001B[0;34m=\u001B[0m\u001B[0;36m100\u001B[0m\u001B[0;34m,\u001B[0m \u001B[0mverbose\u001B[0m\u001B[0;34m=\u001B[0m\u001B[0;36m1\u001B[0m\u001B[0;34m,\u001B[0m \u001B[0mcallbacks\u001B[0m\u001B[0;34m=\u001B[0m\u001B[0mcallbacks_list\u001B[0m\u001B[0;34m)\u001B[0m\u001B[0;34m\u001B[0m\u001B[0;34m\u001B[0m\u001B[0m\n\u001B[0m",
      "\u001B[0;32m/usr/local/lib/python3.7/dist-packages/keras/utils/traceback_utils.py\u001B[0m in \u001B[0;36merror_handler\u001B[0;34m(*args, **kwargs)\u001B[0m\n\u001B[1;32m     62\u001B[0m     \u001B[0mfiltered_tb\u001B[0m \u001B[0;34m=\u001B[0m \u001B[0;32mNone\u001B[0m\u001B[0;34m\u001B[0m\u001B[0;34m\u001B[0m\u001B[0m\n\u001B[1;32m     63\u001B[0m     \u001B[0;32mtry\u001B[0m\u001B[0;34m:\u001B[0m\u001B[0;34m\u001B[0m\u001B[0;34m\u001B[0m\u001B[0m\n\u001B[0;32m---> 64\u001B[0;31m       \u001B[0;32mreturn\u001B[0m \u001B[0mfn\u001B[0m\u001B[0;34m(\u001B[0m\u001B[0;34m*\u001B[0m\u001B[0margs\u001B[0m\u001B[0;34m,\u001B[0m \u001B[0;34m**\u001B[0m\u001B[0mkwargs\u001B[0m\u001B[0;34m)\u001B[0m\u001B[0;34m\u001B[0m\u001B[0;34m\u001B[0m\u001B[0m\n\u001B[0m\u001B[1;32m     65\u001B[0m     \u001B[0;32mexcept\u001B[0m \u001B[0mException\u001B[0m \u001B[0;32mas\u001B[0m \u001B[0me\u001B[0m\u001B[0;34m:\u001B[0m  \u001B[0;31m# pylint: disable=broad-except\u001B[0m\u001B[0;34m\u001B[0m\u001B[0;34m\u001B[0m\u001B[0m\n\u001B[1;32m     66\u001B[0m       \u001B[0mfiltered_tb\u001B[0m \u001B[0;34m=\u001B[0m \u001B[0m_process_traceback_frames\u001B[0m\u001B[0;34m(\u001B[0m\u001B[0me\u001B[0m\u001B[0;34m.\u001B[0m\u001B[0m__traceback__\u001B[0m\u001B[0;34m)\u001B[0m\u001B[0;34m\u001B[0m\u001B[0;34m\u001B[0m\u001B[0m\n",
      "\u001B[0;32m/usr/local/lib/python3.7/dist-packages/keras/engine/training.py\u001B[0m in \u001B[0;36mfit\u001B[0;34m(self, x, y, batch_size, epochs, verbose, callbacks, validation_split, validation_data, shuffle, class_weight, sample_weight, initial_epoch, steps_per_epoch, validation_steps, validation_batch_size, validation_freq, max_queue_size, workers, use_multiprocessing)\u001B[0m\n\u001B[1;32m   1399\u001B[0m         \u001B[0;32mwith\u001B[0m \u001B[0mdata_handler\u001B[0m\u001B[0;34m.\u001B[0m\u001B[0mcatch_stop_iteration\u001B[0m\u001B[0;34m(\u001B[0m\u001B[0;34m)\u001B[0m\u001B[0;34m:\u001B[0m\u001B[0;34m\u001B[0m\u001B[0;34m\u001B[0m\u001B[0m\n\u001B[1;32m   1400\u001B[0m           \u001B[0mdata_handler\u001B[0m\u001B[0;34m.\u001B[0m\u001B[0m_initial_step\u001B[0m \u001B[0;34m=\u001B[0m \u001B[0mself\u001B[0m\u001B[0;34m.\u001B[0m\u001B[0m_maybe_load_initial_step_from_ckpt\u001B[0m\u001B[0;34m(\u001B[0m\u001B[0;34m)\u001B[0m  \u001B[0;31m# pylint: disable=protected-access\u001B[0m\u001B[0;34m\u001B[0m\u001B[0;34m\u001B[0m\u001B[0m\n\u001B[0;32m-> 1401\u001B[0;31m           \u001B[0;32mfor\u001B[0m \u001B[0mstep\u001B[0m \u001B[0;32min\u001B[0m \u001B[0mdata_handler\u001B[0m\u001B[0;34m.\u001B[0m\u001B[0msteps\u001B[0m\u001B[0;34m(\u001B[0m\u001B[0;34m)\u001B[0m\u001B[0;34m:\u001B[0m\u001B[0;34m\u001B[0m\u001B[0;34m\u001B[0m\u001B[0m\n\u001B[0m\u001B[1;32m   1402\u001B[0m             with tf.profiler.experimental.Trace(\n\u001B[1;32m   1403\u001B[0m                 \u001B[0;34m'train'\u001B[0m\u001B[0;34m,\u001B[0m\u001B[0;34m\u001B[0m\u001B[0;34m\u001B[0m\u001B[0m\n",
      "\u001B[0;32m/usr/local/lib/python3.7/dist-packages/keras/engine/data_adapter.py\u001B[0m in \u001B[0;36msteps\u001B[0;34m(self)\u001B[0m\n\u001B[1;32m   1246\u001B[0m       \u001B[0;32mif\u001B[0m \u001B[0mself\u001B[0m\u001B[0;34m.\u001B[0m\u001B[0m_insufficient_data\u001B[0m\u001B[0;34m:\u001B[0m  \u001B[0;31m# Set by `catch_stop_iteration`.\u001B[0m\u001B[0;34m\u001B[0m\u001B[0;34m\u001B[0m\u001B[0m\n\u001B[1;32m   1247\u001B[0m         \u001B[0;32mbreak\u001B[0m\u001B[0;34m\u001B[0m\u001B[0;34m\u001B[0m\u001B[0m\n\u001B[0;32m-> 1248\u001B[0;31m       \u001B[0moriginal_spe\u001B[0m \u001B[0;34m=\u001B[0m \u001B[0mself\u001B[0m\u001B[0;34m.\u001B[0m\u001B[0m_steps_per_execution\u001B[0m\u001B[0;34m.\u001B[0m\u001B[0mnumpy\u001B[0m\u001B[0;34m(\u001B[0m\u001B[0;34m)\u001B[0m\u001B[0;34m.\u001B[0m\u001B[0mitem\u001B[0m\u001B[0;34m(\u001B[0m\u001B[0;34m)\u001B[0m\u001B[0;34m\u001B[0m\u001B[0;34m\u001B[0m\u001B[0m\n\u001B[0m\u001B[1;32m   1249\u001B[0m       can_run_full_execution = (\n\u001B[1;32m   1250\u001B[0m           \u001B[0moriginal_spe\u001B[0m \u001B[0;34m==\u001B[0m \u001B[0;36m1\u001B[0m \u001B[0;32mor\u001B[0m\u001B[0;34m\u001B[0m\u001B[0;34m\u001B[0m\u001B[0m\n",
      "\u001B[0;32m/usr/local/lib/python3.7/dist-packages/tensorflow/python/ops/resource_variable_ops.py\u001B[0m in \u001B[0;36mnumpy\u001B[0;34m(self)\u001B[0m\n\u001B[1;32m    635\u001B[0m   \u001B[0;32mdef\u001B[0m \u001B[0mnumpy\u001B[0m\u001B[0;34m(\u001B[0m\u001B[0mself\u001B[0m\u001B[0;34m)\u001B[0m\u001B[0;34m:\u001B[0m\u001B[0;34m\u001B[0m\u001B[0;34m\u001B[0m\u001B[0m\n\u001B[1;32m    636\u001B[0m     \u001B[0;32mif\u001B[0m \u001B[0mcontext\u001B[0m\u001B[0;34m.\u001B[0m\u001B[0mexecuting_eagerly\u001B[0m\u001B[0;34m(\u001B[0m\u001B[0;34m)\u001B[0m\u001B[0;34m:\u001B[0m\u001B[0;34m\u001B[0m\u001B[0;34m\u001B[0m\u001B[0m\n\u001B[0;32m--> 637\u001B[0;31m       \u001B[0;32mreturn\u001B[0m \u001B[0mself\u001B[0m\u001B[0;34m.\u001B[0m\u001B[0mread_value\u001B[0m\u001B[0;34m(\u001B[0m\u001B[0;34m)\u001B[0m\u001B[0;34m.\u001B[0m\u001B[0mnumpy\u001B[0m\u001B[0;34m(\u001B[0m\u001B[0;34m)\u001B[0m\u001B[0;34m\u001B[0m\u001B[0;34m\u001B[0m\u001B[0m\n\u001B[0m\u001B[1;32m    638\u001B[0m     raise NotImplementedError(\n\u001B[1;32m    639\u001B[0m         \"numpy() is only available when eager execution is enabled.\")\n",
      "\u001B[0;32m/usr/local/lib/python3.7/dist-packages/tensorflow/python/framework/ops.py\u001B[0m in \u001B[0;36mnumpy\u001B[0;34m(self)\u001B[0m\n\u001B[1;32m   1157\u001B[0m     \"\"\"\n\u001B[1;32m   1158\u001B[0m     \u001B[0;31m# TODO(slebedev): Consider avoiding a copy for non-CPU or remote tensors.\u001B[0m\u001B[0;34m\u001B[0m\u001B[0;34m\u001B[0m\u001B[0;34m\u001B[0m\u001B[0m\n\u001B[0;32m-> 1159\u001B[0;31m     \u001B[0mmaybe_arr\u001B[0m \u001B[0;34m=\u001B[0m \u001B[0mself\u001B[0m\u001B[0;34m.\u001B[0m\u001B[0m_numpy\u001B[0m\u001B[0;34m(\u001B[0m\u001B[0;34m)\u001B[0m  \u001B[0;31m# pylint: disable=protected-access\u001B[0m\u001B[0;34m\u001B[0m\u001B[0;34m\u001B[0m\u001B[0m\n\u001B[0m\u001B[1;32m   1160\u001B[0m     \u001B[0;32mreturn\u001B[0m \u001B[0mmaybe_arr\u001B[0m\u001B[0;34m.\u001B[0m\u001B[0mcopy\u001B[0m\u001B[0;34m(\u001B[0m\u001B[0;34m)\u001B[0m \u001B[0;32mif\u001B[0m \u001B[0misinstance\u001B[0m\u001B[0;34m(\u001B[0m\u001B[0mmaybe_arr\u001B[0m\u001B[0;34m,\u001B[0m \u001B[0mnp\u001B[0m\u001B[0;34m.\u001B[0m\u001B[0mndarray\u001B[0m\u001B[0;34m)\u001B[0m \u001B[0;32melse\u001B[0m \u001B[0mmaybe_arr\u001B[0m\u001B[0;34m\u001B[0m\u001B[0;34m\u001B[0m\u001B[0m\n\u001B[1;32m   1161\u001B[0m \u001B[0;34m\u001B[0m\u001B[0m\n",
      "\u001B[0;32m/usr/local/lib/python3.7/dist-packages/tensorflow/python/framework/ops.py\u001B[0m in \u001B[0;36m_numpy\u001B[0;34m(self)\u001B[0m\n\u001B[1;32m   1123\u001B[0m   \u001B[0;32mdef\u001B[0m \u001B[0m_numpy\u001B[0m\u001B[0;34m(\u001B[0m\u001B[0mself\u001B[0m\u001B[0;34m)\u001B[0m\u001B[0;34m:\u001B[0m\u001B[0;34m\u001B[0m\u001B[0;34m\u001B[0m\u001B[0m\n\u001B[1;32m   1124\u001B[0m     \u001B[0;32mtry\u001B[0m\u001B[0;34m:\u001B[0m\u001B[0;34m\u001B[0m\u001B[0;34m\u001B[0m\u001B[0m\n\u001B[0;32m-> 1125\u001B[0;31m       \u001B[0;32mreturn\u001B[0m \u001B[0mself\u001B[0m\u001B[0;34m.\u001B[0m\u001B[0m_numpy_internal\u001B[0m\u001B[0;34m(\u001B[0m\u001B[0;34m)\u001B[0m\u001B[0;34m\u001B[0m\u001B[0;34m\u001B[0m\u001B[0m\n\u001B[0m\u001B[1;32m   1126\u001B[0m     \u001B[0;32mexcept\u001B[0m \u001B[0mcore\u001B[0m\u001B[0;34m.\u001B[0m\u001B[0m_NotOkStatusException\u001B[0m \u001B[0;32mas\u001B[0m \u001B[0me\u001B[0m\u001B[0;34m:\u001B[0m  \u001B[0;31m# pylint: disable=protected-access\u001B[0m\u001B[0;34m\u001B[0m\u001B[0;34m\u001B[0m\u001B[0m\n\u001B[1;32m   1127\u001B[0m       \u001B[0;32mraise\u001B[0m \u001B[0mcore\u001B[0m\u001B[0;34m.\u001B[0m\u001B[0m_status_to_exception\u001B[0m\u001B[0;34m(\u001B[0m\u001B[0me\u001B[0m\u001B[0;34m)\u001B[0m \u001B[0;32mfrom\u001B[0m \u001B[0;32mNone\u001B[0m  \u001B[0;31m# pylint: disable=protected-access\u001B[0m\u001B[0;34m\u001B[0m\u001B[0;34m\u001B[0m\u001B[0m\n",
      "\u001B[0;31mKeyboardInterrupt\u001B[0m: "
     ]
    }
   ]
  },
  {
   "cell_type": "code",
   "source": [],
   "metadata": {
    "id": "SkW9wgAgClDz"
   },
   "execution_count": null,
   "outputs": []
  }
 ],
 "metadata": {
  "accelerator": "GPU",
  "colab": {
   "provenance": [],
   "authorship_tag": "ABX9TyMcMDv6u04AfBpRX+Gwzhgz"
  },
  "gpuClass": "standard",
  "kernelspec": {
   "display_name": "Python 3",
   "name": "python3"
  },
  "language_info": {
   "name": "python"
  }
 },
 "nbformat": 4,
 "nbformat_minor": 0
}
