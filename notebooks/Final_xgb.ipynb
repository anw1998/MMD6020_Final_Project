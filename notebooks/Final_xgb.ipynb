{
 "cells": [
  {
   "cell_type": "code",
   "execution_count": 1,
   "metadata": {
    "collapsed": true
   },
   "outputs": [],
   "source": [
    "import os\n",
    "import numpy as np\n",
    "import pandas as pd\n",
    "import matplotlib.pyplot as plt\n",
    "import seaborn as sns\n",
    "sns.set()\n",
    "from sklearn.model_selection import train_test_split\n",
    "from sklearn import metrics\n",
    "import xgboost as xgb\n",
    "from sklearn.preprocessing import OneHotEncoder\n",
    "from sklearn.compose import ColumnTransformer\n",
    "from sklearn.preprocessing import StandardScaler"
   ]
  },
  {
   "cell_type": "code",
   "execution_count": 2,
   "outputs": [],
   "source": [
    "from sklearn.metrics import accuracy_score, recall_score, precision_score, f1_score, roc_auc_score\n",
    "import numpy as np\n",
    "\n",
    "\n",
    "# Define metrics\n",
    "def evaluate(y_true, y_proba):\n",
    "    y_pred = np.round(y_proba)\n",
    "    return {\n",
    "        'Precision': precision_score(y_true, y_pred, average='macro'),\n",
    "        'Recall': recall_score(y_true, y_pred, average='macro'),\n",
    "        'Macro f1': f1_score(y_true, y_pred, average='macro'),\n",
    "        'Accuracy': accuracy_score(y_true, y_pred),\n",
    "        'ROC AUC': roc_auc_score(y_true, y_proba)\n",
    "    }"
   ],
   "metadata": {
    "collapsed": false
   }
  },
  {
   "cell_type": "markdown",
   "source": [
    "# From Final version"
   ],
   "metadata": {
    "collapsed": false
   }
  },
  {
   "cell_type": "code",
   "execution_count": 3,
   "outputs": [
    {
     "name": "stdout",
     "output_type": "stream",
     "text": [
      "On training data:  {'Precision': 0.9708349769015993, 'Recall': 0.9697005459790669, 'Macro f1': 0.9696822840847077, 'Accuracy': 0.9697005459790669, 'ROC AUC': 0.9932489261238777}\n",
      "On validation data:  {'Precision': 0.9128873271686889, 'Recall': 0.912209523688871, 'Macro f1': 0.9121733911158947, 'Accuracy': 0.9122094270796081, 'ROC AUC': 0.969696716060462}\n"
     ]
    }
   ],
   "source": [
    "import pandas as pd\n",
    "from sklearn.model_selection import train_test_split\n",
    "\n",
    "data_df = pd.read_csv('C:/Users/GM/PycharmProjects/MMD6020_Final_Project/src/data/chbmit_preprocessed_data.csv')\n",
    "\n",
    "RANDOM_SEED = 42\n",
    "\n",
    "# Load data\n",
    "# data_df = pd.read_csv('/content/drive/MyDrive/MMD6020_Final_Project/data/processed/chbmit_preprocessed_data.csv')\n",
    "\n",
    "# Separate X and y\n",
    "X = data_df.drop(['Outcome'], axis=1)\n",
    "y = data_df['Outcome']\n",
    "\n",
    "# Split into train,validation and test\n",
    "X_train, X_val_test, y_train, y_val_test = train_test_split(X,y,test_size=0.2, stratify=y, random_state=RANDOM_SEED)\n",
    "X_val, X_test, y_val, y_test = train_test_split(X_val_test,y_val_test,test_size=0.5, stratify=y_val_test, random_state=RANDOM_SEED)\n",
    "\n",
    "import xgboost as xgb\n",
    "\n",
    "\n",
    "xgb_HP = xgb.XGBClassifier(tree_method=\"gpu_hist\",\n",
    "                           max_depth = 17,\n",
    "                           gamma = 0.4081632653061224,\n",
    "                           eta = 0.3157894736842105,\n",
    "                           reg_lambda = 4,\n",
    "                           reg_alpha = 2)\n",
    "# Fit the model using predictor X and response y.\n",
    "xgb_HP.fit(X_train, y_train)\n",
    "\n",
    "y_pred_train = xgb_HP.predict_proba(X_train)[::,1]\n",
    "train_metrics = evaluate(y_train, y_pred_train)\n",
    "print('On training data: ', train_metrics)\n",
    "\n",
    "y_pred_val = xgb_HP.predict_proba(X_val)[::,1]\n",
    "val_metrics = evaluate(y_val, y_pred_val)\n",
    "print('On validation data: ', val_metrics)"
   ],
   "metadata": {
    "collapsed": false
   }
  },
  {
   "cell_type": "markdown",
   "source": [
    "# From test_xgb"
   ],
   "metadata": {
    "collapsed": false
   }
  },
  {
   "cell_type": "code",
   "execution_count": 4,
   "outputs": [
    {
     "name": "stdout",
     "output_type": "stream",
     "text": [
      "On training data:  {'Precision': 0.9708349769015993, 'Recall': 0.9697005459790669, 'Macro f1': 0.9696822840847077, 'Accuracy': 0.9697005459790669, 'ROC AUC': 0.9932489261238777}\n",
      "On validation data:  {'Precision': 0.9128873271686889, 'Recall': 0.912209523688871, 'Macro f1': 0.9121733911158947, 'Accuracy': 0.9122094270796081, 'ROC AUC': 0.969696716060462}\n"
     ]
    }
   ],
   "source": [
    "data_df = pd.read_csv('C:/Users/GM/PycharmProjects/MMD6020_Final_Project/src/data/chbmit_preprocessed_data.csv')\n",
    "\n",
    "RANDOM_SEED = 42\n",
    "\n",
    "# Load data\n",
    "# data_df = pd.read_csv('/content/drive/MyDrive/MMD6020_Final_Project/data/processed/chbmit_preprocessed_data.csv')\n",
    "\n",
    "# Separate X and y\n",
    "X = data_df.drop(['Outcome'], axis=1)\n",
    "y = data_df['Outcome']\n",
    "\n",
    "# Split into train,validation and test\n",
    "X_train, X_val_test, y_train, y_val_test = train_test_split(X,y,test_size=0.2, stratify=y, random_state=RANDOM_SEED)\n",
    "X_val, X_test, y_val, y_test = train_test_split(X_val_test,y_val_test,test_size=0.5, stratify=y_val_test, random_state=RANDOM_SEED)\n",
    "\n",
    "import xgboost as xgb\n",
    "\n",
    "\n",
    "xgb_HP = xgb.XGBClassifier(tree_method=\"gpu_hist\",\n",
    "                           max_depth = 17,\n",
    "                           gamma = 0.4081632653061224,\n",
    "                           eta = 0.3157894736842105,\n",
    "                           reg_lambda = 4,\n",
    "                           reg_alpha = 2)\n",
    "# Fit the model using predictor X and response y.\n",
    "xgb_HP.fit(X_train, y_train)\n",
    "\n",
    "y_pred_train = xgb_HP.predict_proba(X_train)[::,1]\n",
    "train_metrics = evaluate(y_train, y_pred_train)\n",
    "print('On training data: ', train_metrics)\n",
    "\n",
    "y_pred_val = xgb_HP.predict_proba(X_val)[::,1]\n",
    "val_metrics = evaluate(y_val, y_pred_val)\n",
    "print('On validation data: ', val_metrics)"
   ],
   "metadata": {
    "collapsed": false
   }
  },
  {
   "cell_type": "code",
   "execution_count": null,
   "outputs": [],
   "source": [],
   "metadata": {
    "collapsed": false
   }
  }
 ],
 "metadata": {
  "kernelspec": {
   "display_name": "Python 3",
   "language": "python",
   "name": "python3"
  },
  "language_info": {
   "codemirror_mode": {
    "name": "ipython",
    "version": 2
   },
   "file_extension": ".py",
   "mimetype": "text/x-python",
   "name": "python",
   "nbconvert_exporter": "python",
   "pygments_lexer": "ipython2",
   "version": "2.7.6"
  }
 },
 "nbformat": 4,
 "nbformat_minor": 0
}
